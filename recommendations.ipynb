{
 "cells": [
  {
   "cell_type": "markdown",
   "id": "f4095ae4-7294-4b28-853e-88d235002c97",
   "metadata": {},
   "source": [
    "# Инициализация"
   ]
  },
  {
   "cell_type": "markdown",
   "id": "2f2318d2-9df8-4911-915e-15b725c44f8a",
   "metadata": {},
   "source": [
    "Загружаем библиотеки необходимые для выполнения кода ноутбука."
   ]
  },
  {
   "cell_type": "code",
   "execution_count": 2,
   "id": "662d04e7-1b0b-4e4a-9ddf-4526d7fef119",
   "metadata": {},
   "outputs": [],
   "source": [
    "import logging\n",
    "\n",
    "import matplotlib.pyplot as plt\n",
    "import numpy as np\n",
    "import pandas as pd\n",
    "import seaborn as sns\n"
   ]
  },
  {
   "cell_type": "markdown",
   "id": "bf80fbc5-b660-4fac-8fbb-a5cae77313b3",
   "metadata": {},
   "source": [
    "# === ЭТАП 1 ==="
   ]
  },
  {
   "cell_type": "markdown",
   "id": "5263a8b3-fe99-4204-8a2e-105182792c11",
   "metadata": {},
   "source": [
    "# Загрузка первичных данных"
   ]
  },
  {
   "cell_type": "markdown",
   "id": "1b54a6a5-1656-4e3c-99d1-49dc39451d33",
   "metadata": {},
   "source": [
    "Загружаем первичные данные из файлов:\n",
    "- tracks.parquet\n",
    "- catalog_names.parquet\n",
    "- interactions.parquet"
   ]
  },
  {
   "cell_type": "code",
   "execution_count": 3,
   "id": "5d4b8961-3f35-4e58-9d6b-3e2dbd2c4224",
   "metadata": {},
   "outputs": [
    {
     "ename": "KeyboardInterrupt",
     "evalue": "",
     "output_type": "error",
     "traceback": [
      "\u001b[0;31m---------------------------------------------------------------------------\u001b[0m",
      "\u001b[0;31mKeyboardInterrupt\u001b[0m                         Traceback (most recent call last)",
      "Cell \u001b[0;32mIn[3], line 2\u001b[0m\n\u001b[1;32m      1\u001b[0m tracks \u001b[38;5;241m=\u001b[39m pd\u001b[38;5;241m.\u001b[39mread_parquet(\u001b[38;5;124m\"\u001b[39m\u001b[38;5;124mtracks.parquet\u001b[39m\u001b[38;5;124m\"\u001b[39m)\n\u001b[0;32m----> 2\u001b[0m catalog_names \u001b[38;5;241m=\u001b[39m \u001b[43mpd\u001b[49m\u001b[38;5;241;43m.\u001b[39;49m\u001b[43mread_parquet\u001b[49m\u001b[43m(\u001b[49m\u001b[38;5;124;43m\"\u001b[39;49m\u001b[38;5;124;43mcatalog_names.parquet\u001b[39;49m\u001b[38;5;124;43m\"\u001b[39;49m\u001b[43m)\u001b[49m\n\u001b[1;32m      3\u001b[0m interactions \u001b[38;5;241m=\u001b[39m pd\u001b[38;5;241m.\u001b[39mread_parquet(\u001b[38;5;124m\"\u001b[39m\u001b[38;5;124minteractions.parquet\u001b[39m\u001b[38;5;124m\"\u001b[39m)\n",
      "File \u001b[0;32m~/mle_projects/mle-airflow/.venv_project_name/lib/python3.10/site-packages/pandas/io/parquet.py:670\u001b[0m, in \u001b[0;36mread_parquet\u001b[0;34m(path, engine, columns, storage_options, use_nullable_dtypes, dtype_backend, filesystem, filters, **kwargs)\u001b[0m\n\u001b[1;32m    667\u001b[0m     use_nullable_dtypes \u001b[38;5;241m=\u001b[39m \u001b[38;5;28;01mFalse\u001b[39;00m\n\u001b[1;32m    668\u001b[0m check_dtype_backend(dtype_backend)\n\u001b[0;32m--> 670\u001b[0m \u001b[38;5;28;01mreturn\u001b[39;00m \u001b[43mimpl\u001b[49m\u001b[38;5;241;43m.\u001b[39;49m\u001b[43mread\u001b[49m\u001b[43m(\u001b[49m\n\u001b[1;32m    671\u001b[0m \u001b[43m    \u001b[49m\u001b[43mpath\u001b[49m\u001b[43m,\u001b[49m\n\u001b[1;32m    672\u001b[0m \u001b[43m    \u001b[49m\u001b[43mcolumns\u001b[49m\u001b[38;5;241;43m=\u001b[39;49m\u001b[43mcolumns\u001b[49m\u001b[43m,\u001b[49m\n\u001b[1;32m    673\u001b[0m \u001b[43m    \u001b[49m\u001b[43mfilters\u001b[49m\u001b[38;5;241;43m=\u001b[39;49m\u001b[43mfilters\u001b[49m\u001b[43m,\u001b[49m\n\u001b[1;32m    674\u001b[0m \u001b[43m    \u001b[49m\u001b[43mstorage_options\u001b[49m\u001b[38;5;241;43m=\u001b[39;49m\u001b[43mstorage_options\u001b[49m\u001b[43m,\u001b[49m\n\u001b[1;32m    675\u001b[0m \u001b[43m    \u001b[49m\u001b[43muse_nullable_dtypes\u001b[49m\u001b[38;5;241;43m=\u001b[39;49m\u001b[43muse_nullable_dtypes\u001b[49m\u001b[43m,\u001b[49m\n\u001b[1;32m    676\u001b[0m \u001b[43m    \u001b[49m\u001b[43mdtype_backend\u001b[49m\u001b[38;5;241;43m=\u001b[39;49m\u001b[43mdtype_backend\u001b[49m\u001b[43m,\u001b[49m\n\u001b[1;32m    677\u001b[0m \u001b[43m    \u001b[49m\u001b[43mfilesystem\u001b[49m\u001b[38;5;241;43m=\u001b[39;49m\u001b[43mfilesystem\u001b[49m\u001b[43m,\u001b[49m\n\u001b[1;32m    678\u001b[0m \u001b[43m    \u001b[49m\u001b[38;5;241;43m*\u001b[39;49m\u001b[38;5;241;43m*\u001b[39;49m\u001b[43mkwargs\u001b[49m\u001b[43m,\u001b[49m\n\u001b[1;32m    679\u001b[0m \u001b[43m\u001b[49m\u001b[43m)\u001b[49m\n",
      "File \u001b[0;32m~/mle_projects/mle-airflow/.venv_project_name/lib/python3.10/site-packages/pandas/io/parquet.py:279\u001b[0m, in \u001b[0;36mPyArrowImpl.read\u001b[0;34m(self, path, columns, filters, use_nullable_dtypes, dtype_backend, storage_options, filesystem, **kwargs)\u001b[0m\n\u001b[1;32m    271\u001b[0m \u001b[38;5;28;01mtry\u001b[39;00m:\n\u001b[1;32m    272\u001b[0m     pa_table \u001b[38;5;241m=\u001b[39m \u001b[38;5;28mself\u001b[39m\u001b[38;5;241m.\u001b[39mapi\u001b[38;5;241m.\u001b[39mparquet\u001b[38;5;241m.\u001b[39mread_table(\n\u001b[1;32m    273\u001b[0m         path_or_handle,\n\u001b[1;32m    274\u001b[0m         columns\u001b[38;5;241m=\u001b[39mcolumns,\n\u001b[0;32m   (...)\u001b[0m\n\u001b[1;32m    277\u001b[0m         \u001b[38;5;241m*\u001b[39m\u001b[38;5;241m*\u001b[39mkwargs,\n\u001b[1;32m    278\u001b[0m     )\n\u001b[0;32m--> 279\u001b[0m     result \u001b[38;5;241m=\u001b[39m \u001b[43mpa_table\u001b[49m\u001b[38;5;241;43m.\u001b[39;49m\u001b[43mto_pandas\u001b[49m\u001b[43m(\u001b[49m\u001b[38;5;241;43m*\u001b[39;49m\u001b[38;5;241;43m*\u001b[39;49m\u001b[43mto_pandas_kwargs\u001b[49m\u001b[43m)\u001b[49m\n\u001b[1;32m    281\u001b[0m     \u001b[38;5;28;01mif\u001b[39;00m manager \u001b[38;5;241m==\u001b[39m \u001b[38;5;124m\"\u001b[39m\u001b[38;5;124marray\u001b[39m\u001b[38;5;124m\"\u001b[39m:\n\u001b[1;32m    282\u001b[0m         result \u001b[38;5;241m=\u001b[39m result\u001b[38;5;241m.\u001b[39m_as_manager(\u001b[38;5;124m\"\u001b[39m\u001b[38;5;124marray\u001b[39m\u001b[38;5;124m\"\u001b[39m, copy\u001b[38;5;241m=\u001b[39m\u001b[38;5;28;01mFalse\u001b[39;00m)\n",
      "File \u001b[0;32m~/mle_projects/mle-airflow/.venv_project_name/lib/python3.10/site-packages/pyarrow/array.pxi:867\u001b[0m, in \u001b[0;36mpyarrow.lib._PandasConvertible.to_pandas\u001b[0;34m()\u001b[0m\n",
      "File \u001b[0;32m~/mle_projects/mle-airflow/.venv_project_name/lib/python3.10/site-packages/pyarrow/table.pxi:4085\u001b[0m, in \u001b[0;36mpyarrow.lib.Table._to_pandas\u001b[0;34m()\u001b[0m\n",
      "File \u001b[0;32m~/mle_projects/mle-airflow/.venv_project_name/lib/python3.10/site-packages/pyarrow/pandas_compat.py:772\u001b[0m, in \u001b[0;36mtable_to_blockmanager\u001b[0;34m(options, table, categories, ignore_metadata, types_mapper)\u001b[0m\n\u001b[1;32m    770\u001b[0m _check_data_column_metadata_consistency(all_columns)\n\u001b[1;32m    771\u001b[0m columns \u001b[38;5;241m=\u001b[39m _deserialize_column_index(table, all_columns, column_indexes)\n\u001b[0;32m--> 772\u001b[0m blocks \u001b[38;5;241m=\u001b[39m \u001b[43m_table_to_blocks\u001b[49m\u001b[43m(\u001b[49m\u001b[43moptions\u001b[49m\u001b[43m,\u001b[49m\u001b[43m \u001b[49m\u001b[43mtable\u001b[49m\u001b[43m,\u001b[49m\u001b[43m \u001b[49m\u001b[43mcategories\u001b[49m\u001b[43m,\u001b[49m\u001b[43m \u001b[49m\u001b[43mext_columns_dtypes\u001b[49m\u001b[43m)\u001b[49m\n\u001b[1;32m    774\u001b[0m axes \u001b[38;5;241m=\u001b[39m [columns, index]\n\u001b[1;32m    775\u001b[0m \u001b[38;5;28;01mreturn\u001b[39;00m BlockManager(blocks, axes)\n",
      "File \u001b[0;32m~/mle_projects/mle-airflow/.venv_project_name/lib/python3.10/site-packages/pyarrow/pandas_compat.py:1120\u001b[0m, in \u001b[0;36m_table_to_blocks\u001b[0;34m(options, block_table, categories, extension_columns)\u001b[0m\n\u001b[1;32m   1115\u001b[0m \u001b[38;5;28;01mdef\u001b[39;00m \u001b[38;5;21m_table_to_blocks\u001b[39m(options, block_table, categories, extension_columns):\n\u001b[1;32m   1116\u001b[0m     \u001b[38;5;66;03m# Part of table_to_blockmanager\u001b[39;00m\n\u001b[1;32m   1117\u001b[0m \n\u001b[1;32m   1118\u001b[0m     \u001b[38;5;66;03m# Convert an arrow table to Block from the internal pandas API\u001b[39;00m\n\u001b[1;32m   1119\u001b[0m     columns \u001b[38;5;241m=\u001b[39m block_table\u001b[38;5;241m.\u001b[39mcolumn_names\n\u001b[0;32m-> 1120\u001b[0m     result \u001b[38;5;241m=\u001b[39m \u001b[43mpa\u001b[49m\u001b[38;5;241;43m.\u001b[39;49m\u001b[43mlib\u001b[49m\u001b[38;5;241;43m.\u001b[39;49m\u001b[43mtable_to_blocks\u001b[49m\u001b[43m(\u001b[49m\u001b[43moptions\u001b[49m\u001b[43m,\u001b[49m\u001b[43m \u001b[49m\u001b[43mblock_table\u001b[49m\u001b[43m,\u001b[49m\u001b[43m \u001b[49m\u001b[43mcategories\u001b[49m\u001b[43m,\u001b[49m\n\u001b[1;32m   1121\u001b[0m \u001b[43m                                    \u001b[49m\u001b[38;5;28;43mlist\u001b[39;49m\u001b[43m(\u001b[49m\u001b[43mextension_columns\u001b[49m\u001b[38;5;241;43m.\u001b[39;49m\u001b[43mkeys\u001b[49m\u001b[43m(\u001b[49m\u001b[43m)\u001b[49m\u001b[43m)\u001b[49m\u001b[43m)\u001b[49m\n\u001b[1;32m   1122\u001b[0m     \u001b[38;5;28;01mreturn\u001b[39;00m [_reconstruct_block(item, columns, extension_columns)\n\u001b[1;32m   1123\u001b[0m             \u001b[38;5;28;01mfor\u001b[39;00m item \u001b[38;5;129;01min\u001b[39;00m result]\n",
      "\u001b[0;31mKeyboardInterrupt\u001b[0m: "
     ]
    }
   ],
   "source": [
    "tracks = pd.read_parquet(\"tracks.parquet\")\n",
    "catalog_names = pd.read_parquet(\"catalog_names.parquet\")\n",
    "interactions = pd.read_parquet(\"interactions.parquet\")"
   ]
  },
  {
   "cell_type": "markdown",
   "id": "e8f2a1f7-a05f-4f39-af90-5f4018aa6f9d",
   "metadata": {},
   "source": [
    "# Обзор данных"
   ]
  },
  {
   "cell_type": "markdown",
   "id": "46a85307-896c-4fac-9fcf-f0dffa90889e",
   "metadata": {},
   "source": [
    "Проверяем данные, есть ли с ними явные проблемы."
   ]
  },
  {
   "cell_type": "code",
   "execution_count": 4,
   "id": "31871dbb",
   "metadata": {},
   "outputs": [],
   "source": [
    "unseen_tracks = set(interactions[\"track_id\"]) - set(tracks['track_id'])"
   ]
  },
  {
   "cell_type": "code",
   "execution_count": 5,
   "id": "d1895b4d",
   "metadata": {},
   "outputs": [
    {
     "data": {
      "text/plain": [
       "set()"
      ]
     },
     "execution_count": 5,
     "metadata": {},
     "output_type": "execute_result"
    }
   ],
   "source": [
    "unseen_tracks"
   ]
  },
  {
   "cell_type": "code",
   "execution_count": 5,
   "id": "21f6d649",
   "metadata": {},
   "outputs": [
    {
     "name": "stdout",
     "output_type": "stream",
     "text": [
      "<class 'pandas.core.frame.DataFrame'>\n",
      "RangeIndex: 1000000 entries, 0 to 999999\n",
      "Data columns (total 4 columns):\n",
      " #   Column    Non-Null Count    Dtype \n",
      "---  ------    --------------    ----- \n",
      " 0   track_id  1000000 non-null  int64 \n",
      " 1   albums    1000000 non-null  object\n",
      " 2   artists   1000000 non-null  object\n",
      " 3   genres    1000000 non-null  object\n",
      "dtypes: int64(1), object(3)\n",
      "memory usage: 30.5+ MB\n"
     ]
    }
   ],
   "source": [
    "tracks.info()"
   ]
  },
  {
   "cell_type": "code",
   "execution_count": 6,
   "id": "4b412cc6",
   "metadata": {},
   "outputs": [],
   "source": [
    "tracks = tracks.explode(['albums']).explode(['artists']).explode(['genres']).dropna()\n"
   ]
  },
  {
   "cell_type": "code",
   "execution_count": 40,
   "id": "0ca51ad5",
   "metadata": {},
   "outputs": [
    {
     "data": {
      "text/html": [
       "<div>\n",
       "<style scoped>\n",
       "    .dataframe tbody tr th:only-of-type {\n",
       "        vertical-align: middle;\n",
       "    }\n",
       "\n",
       "    .dataframe tbody tr th {\n",
       "        vertical-align: top;\n",
       "    }\n",
       "\n",
       "    .dataframe thead th {\n",
       "        text-align: right;\n",
       "    }\n",
       "</style>\n",
       "<table border=\"1\" class=\"dataframe\">\n",
       "  <thead>\n",
       "    <tr style=\"text-align: right;\">\n",
       "      <th></th>\n",
       "      <th>track_id</th>\n",
       "      <th>albums</th>\n",
       "      <th>artists</th>\n",
       "      <th>genres</th>\n",
       "    </tr>\n",
       "  </thead>\n",
       "  <tbody>\n",
       "    <tr>\n",
       "      <th>0</th>\n",
       "      <td>26</td>\n",
       "      <td>3</td>\n",
       "      <td>16</td>\n",
       "      <td>11</td>\n",
       "    </tr>\n",
       "    <tr>\n",
       "      <th>0</th>\n",
       "      <td>26</td>\n",
       "      <td>3</td>\n",
       "      <td>16</td>\n",
       "      <td>21</td>\n",
       "    </tr>\n",
       "    <tr>\n",
       "      <th>0</th>\n",
       "      <td>26</td>\n",
       "      <td>2490753</td>\n",
       "      <td>16</td>\n",
       "      <td>11</td>\n",
       "    </tr>\n",
       "    <tr>\n",
       "      <th>0</th>\n",
       "      <td>26</td>\n",
       "      <td>2490753</td>\n",
       "      <td>16</td>\n",
       "      <td>21</td>\n",
       "    </tr>\n",
       "    <tr>\n",
       "      <th>1</th>\n",
       "      <td>38</td>\n",
       "      <td>3</td>\n",
       "      <td>16</td>\n",
       "      <td>11</td>\n",
       "    </tr>\n",
       "    <tr>\n",
       "      <th>...</th>\n",
       "      <td>...</td>\n",
       "      <td>...</td>\n",
       "      <td>...</td>\n",
       "      <td>...</td>\n",
       "    </tr>\n",
       "    <tr>\n",
       "      <th>999997</th>\n",
       "      <td>101493057</td>\n",
       "      <td>21403883</td>\n",
       "      <td>11865715</td>\n",
       "      <td>75</td>\n",
       "    </tr>\n",
       "    <tr>\n",
       "      <th>999998</th>\n",
       "      <td>101495927</td>\n",
       "      <td>21404975</td>\n",
       "      <td>4462686</td>\n",
       "      <td>3</td>\n",
       "    </tr>\n",
       "    <tr>\n",
       "      <th>999998</th>\n",
       "      <td>101495927</td>\n",
       "      <td>21404975</td>\n",
       "      <td>4462686</td>\n",
       "      <td>75</td>\n",
       "    </tr>\n",
       "    <tr>\n",
       "      <th>999999</th>\n",
       "      <td>101521819</td>\n",
       "      <td>21414638</td>\n",
       "      <td>5056591</td>\n",
       "      <td>3</td>\n",
       "    </tr>\n",
       "    <tr>\n",
       "      <th>999999</th>\n",
       "      <td>101521819</td>\n",
       "      <td>21414638</td>\n",
       "      <td>5056591</td>\n",
       "      <td>75</td>\n",
       "    </tr>\n",
       "  </tbody>\n",
       "</table>\n",
       "<p>6686880 rows × 4 columns</p>\n",
       "</div>"
      ],
      "text/plain": [
       "         track_id    albums   artists genres\n",
       "0              26         3        16     11\n",
       "0              26         3        16     21\n",
       "0              26   2490753        16     11\n",
       "0              26   2490753        16     21\n",
       "1              38         3        16     11\n",
       "...           ...       ...       ...    ...\n",
       "999997  101493057  21403883  11865715     75\n",
       "999998  101495927  21404975   4462686      3\n",
       "999998  101495927  21404975   4462686     75\n",
       "999999  101521819  21414638   5056591      3\n",
       "999999  101521819  21414638   5056591     75\n",
       "\n",
       "[6686880 rows x 4 columns]"
      ]
     },
     "execution_count": 40,
     "metadata": {},
     "output_type": "execute_result"
    }
   ],
   "source": [
    "tracks"
   ]
  },
  {
   "cell_type": "code",
   "execution_count": 15,
   "id": "d1233756",
   "metadata": {},
   "outputs": [
    {
     "name": "stdout",
     "output_type": "stream",
     "text": [
      "<class 'pandas.core.frame.DataFrame'>\n",
      "RangeIndex: 1812471 entries, 0 to 1812470\n",
      "Data columns (total 3 columns):\n",
      " #   Column  Dtype \n",
      "---  ------  ----- \n",
      " 0   id      int64 \n",
      " 1   type    object\n",
      " 2   name    object\n",
      "dtypes: int64(1), object(2)\n",
      "memory usage: 41.5+ MB\n"
     ]
    }
   ],
   "source": [
    "catalog_names.info()"
   ]
  },
  {
   "cell_type": "code",
   "execution_count": 7,
   "id": "0c61c31e",
   "metadata": {},
   "outputs": [
    {
     "data": {
      "text/html": [
       "<div>\n",
       "<style scoped>\n",
       "    .dataframe tbody tr th:only-of-type {\n",
       "        vertical-align: middle;\n",
       "    }\n",
       "\n",
       "    .dataframe tbody tr th {\n",
       "        vertical-align: top;\n",
       "    }\n",
       "\n",
       "    .dataframe thead th {\n",
       "        text-align: right;\n",
       "    }\n",
       "</style>\n",
       "<table border=\"1\" class=\"dataframe\">\n",
       "  <thead>\n",
       "    <tr style=\"text-align: right;\">\n",
       "      <th></th>\n",
       "      <th>id</th>\n",
       "      <th>type</th>\n",
       "      <th>name</th>\n",
       "    </tr>\n",
       "  </thead>\n",
       "  <tbody>\n",
       "    <tr>\n",
       "      <th>0</th>\n",
       "      <td>3</td>\n",
       "      <td>album</td>\n",
       "      <td>Taller Children</td>\n",
       "    </tr>\n",
       "    <tr>\n",
       "      <th>1</th>\n",
       "      <td>12</td>\n",
       "      <td>album</td>\n",
       "      <td>Wild Young Hearts</td>\n",
       "    </tr>\n",
       "    <tr>\n",
       "      <th>2</th>\n",
       "      <td>13</td>\n",
       "      <td>album</td>\n",
       "      <td>Lonesome Crow</td>\n",
       "    </tr>\n",
       "    <tr>\n",
       "      <th>3</th>\n",
       "      <td>17</td>\n",
       "      <td>album</td>\n",
       "      <td>Graffiti Soul</td>\n",
       "    </tr>\n",
       "    <tr>\n",
       "      <th>4</th>\n",
       "      <td>26</td>\n",
       "      <td>album</td>\n",
       "      <td>Blues Six Pack</td>\n",
       "    </tr>\n",
       "    <tr>\n",
       "      <th>...</th>\n",
       "      <td>...</td>\n",
       "      <td>...</td>\n",
       "      <td>...</td>\n",
       "    </tr>\n",
       "    <tr>\n",
       "      <th>1812466</th>\n",
       "      <td>101478482</td>\n",
       "      <td>track</td>\n",
       "      <td>На лицо</td>\n",
       "    </tr>\n",
       "    <tr>\n",
       "      <th>1812467</th>\n",
       "      <td>101490148</td>\n",
       "      <td>track</td>\n",
       "      <td>Без капли мысли</td>\n",
       "    </tr>\n",
       "    <tr>\n",
       "      <th>1812468</th>\n",
       "      <td>101493057</td>\n",
       "      <td>track</td>\n",
       "      <td>SKITTLES</td>\n",
       "    </tr>\n",
       "    <tr>\n",
       "      <th>1812469</th>\n",
       "      <td>101495927</td>\n",
       "      <td>track</td>\n",
       "      <td>Москва</td>\n",
       "    </tr>\n",
       "    <tr>\n",
       "      <th>1812470</th>\n",
       "      <td>101521819</td>\n",
       "      <td>track</td>\n",
       "      <td>Вокзал</td>\n",
       "    </tr>\n",
       "  </tbody>\n",
       "</table>\n",
       "<p>1812471 rows × 3 columns</p>\n",
       "</div>"
      ],
      "text/plain": [
       "                id   type               name\n",
       "0                3  album    Taller Children\n",
       "1               12  album  Wild Young Hearts\n",
       "2               13  album      Lonesome Crow\n",
       "3               17  album      Graffiti Soul\n",
       "4               26  album     Blues Six Pack\n",
       "...            ...    ...                ...\n",
       "1812466  101478482  track            На лицо\n",
       "1812467  101490148  track    Без капли мысли\n",
       "1812468  101493057  track           SKITTLES\n",
       "1812469  101495927  track             Москва\n",
       "1812470  101521819  track             Вокзал\n",
       "\n",
       "[1812471 rows x 3 columns]"
      ]
     },
     "execution_count": 7,
     "metadata": {},
     "output_type": "execute_result"
    }
   ],
   "source": [
    "catalog_names"
   ]
  },
  {
   "cell_type": "code",
   "execution_count": 8,
   "id": "266c58f7",
   "metadata": {},
   "outputs": [
    {
     "name": "stdout",
     "output_type": "stream",
     "text": [
      "<class 'pandas.core.frame.DataFrame'>\n",
      "Index: 222629898 entries, 0 to 291\n",
      "Data columns (total 4 columns):\n",
      " #   Column      Dtype         \n",
      "---  ------      -----         \n",
      " 0   user_id     int32         \n",
      " 1   track_id    int32         \n",
      " 2   track_seq   int16         \n",
      " 3   started_at  datetime64[ns]\n",
      "dtypes: datetime64[ns](1), int16(1), int32(2)\n",
      "memory usage: 5.4 GB\n"
     ]
    }
   ],
   "source": [
    "interactions.info()"
   ]
  },
  {
   "cell_type": "code",
   "execution_count": 16,
   "id": "82d60f8c",
   "metadata": {},
   "outputs": [
    {
     "name": "stdout",
     "output_type": "stream",
     "text": [
      "\n",
      "Пустые значения в 'tracks':\n",
      "track_id    0\n",
      "albums      0\n",
      "artists     0\n",
      "genres      0\n",
      "dtype: int64\n",
      "\n",
      "Пустые значения в 'catalog_names':\n",
      "id      0\n",
      "type    0\n",
      "name    0\n",
      "dtype: int64\n",
      "\n",
      "Пустые значения в 'interactions':\n",
      "user_id       0\n",
      "track_id      0\n",
      "track_seq     0\n",
      "started_at    0\n",
      "dtype: int64\n"
     ]
    }
   ],
   "source": [
    "# Проверка наличия пустых значений\n",
    "print(\"\\nПустые значения в 'tracks':\")\n",
    "print(tracks.isna().sum())\n",
    "print(\"\\nПустые значения в 'catalog_names':\")\n",
    "print(catalog_names.isna().sum())\n",
    "print(\"\\nПустые значения в 'interactions':\")\n",
    "print(interactions.isna().sum())"
   ]
  },
  {
   "cell_type": "code",
   "execution_count": 17,
   "id": "ff0ac7ff",
   "metadata": {},
   "outputs": [
    {
     "name": "stdout",
     "output_type": "stream",
     "text": [
      "\n",
      "Уникальные значения в 'tracks':\n",
      "track_id    980977\n",
      "albums      653563\n",
      "artists     152785\n",
      "genres         166\n",
      "dtype: int64\n",
      "\n",
      "Уникальные значения в 'catalog_names':\n",
      "id      1776697\n",
      "type          4\n",
      "name     945118\n",
      "dtype: int64\n",
      "\n",
      "Уникальные значения в 'interactions':\n",
      "user_id       1373221\n",
      "track_id      1000000\n",
      "track_seq       16637\n",
      "started_at        365\n",
      "dtype: int64\n"
     ]
    }
   ],
   "source": [
    "# Проверка уникальности идентификаторов\n",
    "print(\"\\nУникальные значения в 'tracks':\")\n",
    "print(tracks.nunique())\n",
    "print(\"\\nУникальные значения в 'catalog_names':\")\n",
    "print(catalog_names.nunique())\n",
    "print(\"\\nУникальные значения в 'interactions':\")\n",
    "print(interactions.nunique())"
   ]
  },
  {
   "cell_type": "code",
   "execution_count": 5,
   "id": "72b79914",
   "metadata": {},
   "outputs": [
    {
     "name": "stdout",
     "output_type": "stream",
     "text": [
      "Нет в справочнике из каталога album: 0\n",
      "Такие елементы отсутвуют:  set()\n",
      "Нет в справочнике из каталога artist: 0\n",
      "Такие елементы отсутвуют:  set()\n",
      "Нет в справочнике из каталога genre: 30\n",
      "Такие елементы отсутвуют:  {130, 131, 132, 133, 134, 135, 146, 148, 150, 151, 152, 153, 154, 155, 156, 157, 158, 159, 160, 161, 162, 163, 164, 165, 166, 167, 168, 169, 124, 126}\n"
     ]
    }
   ],
   "source": [
    "list_items = [\"album\",\"artist\", \"genre\" ]\n",
    "for item in list_items:\n",
    "    print(f\"Нет в справочнике из каталога {item}: \", end='')\n",
    "    exists = (\n",
    "    set(tracks[item+'s'].drop_duplicates()) \n",
    "    - set(catalog_names.query(f'type == \"{item}\"')['id'])\n",
    ")\n",
    "    print(len(exists))\n",
    "    print('Такие елементы отсутвуют: ', exists)"
   ]
  },
  {
   "cell_type": "code",
   "execution_count": 7,
   "id": "cfc03a2d",
   "metadata": {},
   "outputs": [],
   "source": [
    "non_exist_genres = {130, 131, 132, 133, 134, 135, 146, 148, 150, 151, 152, 153, 154, 155, 156, 157, 158, 159, 160, 161, 162, 163, 164, 165, 166, 167, 168, 169, 124, 126}"
   ]
  },
  {
   "cell_type": "code",
   "execution_count": 8,
   "id": "5e88a2c2",
   "metadata": {},
   "outputs": [
    {
     "name": "stdout",
     "output_type": "stream",
     "text": [
      "текров где непонятен жанр: 4.9%\n"
     ]
    }
   ],
   "source": [
    "track_unknown_genres = tracks\\\n",
    "                        .query('genres in @non_exist_genres') \\\n",
    "                        ['track_id']\\\n",
    "                        .drop_duplicates()\n",
    "\n",
    "tracks_unique = tracks['track_id'].drop_duplicates()\n",
    "\n",
    "percent_non_exist_genres = len(track_unknown_genres) / len(tracks_unique) * 100\n",
    "print(f\"текров где непонятен жанр: {percent_non_exist_genres:.1f}%\")\n"
   ]
  },
  {
   "cell_type": "code",
   "execution_count": 9,
   "id": "a4e8c895",
   "metadata": {},
   "outputs": [],
   "source": [
    "tracks = tracks.query('track_id not in @track_unknown_genres').reset_index(drop=True)"
   ]
  },
  {
   "cell_type": "code",
   "execution_count": 13,
   "id": "a8ef888b",
   "metadata": {},
   "outputs": [],
   "source": [
    "unseen_tracks = set(interactions[\"track_id\"]) - set(tracks['track_id'])"
   ]
  },
  {
   "cell_type": "code",
   "execution_count": 14,
   "id": "a419be92",
   "metadata": {},
   "outputs": [],
   "source": [
    "interactions = interactions.query('track_id not in @unseen_tracks').reset_index(drop=True)"
   ]
  },
  {
   "cell_type": "code",
   "execution_count": 18,
   "id": "453bcbbe",
   "metadata": {},
   "outputs": [
    {
     "data": {
      "text/html": [
       "<div>\n",
       "<style scoped>\n",
       "    .dataframe tbody tr th:only-of-type {\n",
       "        vertical-align: middle;\n",
       "    }\n",
       "\n",
       "    .dataframe tbody tr th {\n",
       "        vertical-align: top;\n",
       "    }\n",
       "\n",
       "    .dataframe thead th {\n",
       "        text-align: right;\n",
       "    }\n",
       "</style>\n",
       "<table border=\"1\" class=\"dataframe\">\n",
       "  <thead>\n",
       "    <tr style=\"text-align: right;\">\n",
       "      <th></th>\n",
       "      <th>track_id</th>\n",
       "      <th>albums</th>\n",
       "      <th>artists</th>\n",
       "      <th>genres</th>\n",
       "    </tr>\n",
       "  </thead>\n",
       "  <tbody>\n",
       "    <tr>\n",
       "      <th>0</th>\n",
       "      <td>26</td>\n",
       "      <td>3</td>\n",
       "      <td>16</td>\n",
       "      <td>11</td>\n",
       "    </tr>\n",
       "    <tr>\n",
       "      <th>1</th>\n",
       "      <td>26</td>\n",
       "      <td>3</td>\n",
       "      <td>16</td>\n",
       "      <td>21</td>\n",
       "    </tr>\n",
       "    <tr>\n",
       "      <th>2</th>\n",
       "      <td>26</td>\n",
       "      <td>2490753</td>\n",
       "      <td>16</td>\n",
       "      <td>11</td>\n",
       "    </tr>\n",
       "    <tr>\n",
       "      <th>3</th>\n",
       "      <td>26</td>\n",
       "      <td>2490753</td>\n",
       "      <td>16</td>\n",
       "      <td>21</td>\n",
       "    </tr>\n",
       "    <tr>\n",
       "      <th>4</th>\n",
       "      <td>38</td>\n",
       "      <td>3</td>\n",
       "      <td>16</td>\n",
       "      <td>11</td>\n",
       "    </tr>\n",
       "    <tr>\n",
       "      <th>...</th>\n",
       "      <td>...</td>\n",
       "      <td>...</td>\n",
       "      <td>...</td>\n",
       "      <td>...</td>\n",
       "    </tr>\n",
       "    <tr>\n",
       "      <th>6250606</th>\n",
       "      <td>101493057</td>\n",
       "      <td>21403883</td>\n",
       "      <td>11865715</td>\n",
       "      <td>75</td>\n",
       "    </tr>\n",
       "    <tr>\n",
       "      <th>6250607</th>\n",
       "      <td>101495927</td>\n",
       "      <td>21404975</td>\n",
       "      <td>4462686</td>\n",
       "      <td>3</td>\n",
       "    </tr>\n",
       "    <tr>\n",
       "      <th>6250608</th>\n",
       "      <td>101495927</td>\n",
       "      <td>21404975</td>\n",
       "      <td>4462686</td>\n",
       "      <td>75</td>\n",
       "    </tr>\n",
       "    <tr>\n",
       "      <th>6250609</th>\n",
       "      <td>101521819</td>\n",
       "      <td>21414638</td>\n",
       "      <td>5056591</td>\n",
       "      <td>3</td>\n",
       "    </tr>\n",
       "    <tr>\n",
       "      <th>6250610</th>\n",
       "      <td>101521819</td>\n",
       "      <td>21414638</td>\n",
       "      <td>5056591</td>\n",
       "      <td>75</td>\n",
       "    </tr>\n",
       "  </tbody>\n",
       "</table>\n",
       "<p>6250611 rows × 4 columns</p>\n",
       "</div>"
      ],
      "text/plain": [
       "          track_id    albums   artists genres\n",
       "0               26         3        16     11\n",
       "1               26         3        16     21\n",
       "2               26   2490753        16     11\n",
       "3               26   2490753        16     21\n",
       "4               38         3        16     11\n",
       "...            ...       ...       ...    ...\n",
       "6250606  101493057  21403883  11865715     75\n",
       "6250607  101495927  21404975   4462686      3\n",
       "6250608  101495927  21404975   4462686     75\n",
       "6250609  101521819  21414638   5056591      3\n",
       "6250610  101521819  21414638   5056591     75\n",
       "\n",
       "[6250611 rows x 4 columns]"
      ]
     },
     "execution_count": 18,
     "metadata": {},
     "output_type": "execute_result"
    }
   ],
   "source": [
    "tracks"
   ]
  },
  {
   "cell_type": "code",
   "execution_count": 15,
   "id": "961459f3",
   "metadata": {},
   "outputs": [
    {
     "data": {
      "text/html": [
       "<div>\n",
       "<style scoped>\n",
       "    .dataframe tbody tr th:only-of-type {\n",
       "        vertical-align: middle;\n",
       "    }\n",
       "\n",
       "    .dataframe tbody tr th {\n",
       "        vertical-align: top;\n",
       "    }\n",
       "\n",
       "    .dataframe thead th {\n",
       "        text-align: right;\n",
       "    }\n",
       "</style>\n",
       "<table border=\"1\" class=\"dataframe\">\n",
       "  <thead>\n",
       "    <tr style=\"text-align: right;\">\n",
       "      <th></th>\n",
       "      <th>user_id</th>\n",
       "      <th>track_id</th>\n",
       "      <th>track_seq</th>\n",
       "      <th>started_at</th>\n",
       "    </tr>\n",
       "  </thead>\n",
       "  <tbody>\n",
       "    <tr>\n",
       "      <th>0</th>\n",
       "      <td>0</td>\n",
       "      <td>99262</td>\n",
       "      <td>1</td>\n",
       "      <td>2022-07-17</td>\n",
       "    </tr>\n",
       "    <tr>\n",
       "      <th>1</th>\n",
       "      <td>0</td>\n",
       "      <td>589498</td>\n",
       "      <td>2</td>\n",
       "      <td>2022-07-19</td>\n",
       "    </tr>\n",
       "    <tr>\n",
       "      <th>2</th>\n",
       "      <td>0</td>\n",
       "      <td>590262</td>\n",
       "      <td>3</td>\n",
       "      <td>2022-07-21</td>\n",
       "    </tr>\n",
       "    <tr>\n",
       "      <th>3</th>\n",
       "      <td>0</td>\n",
       "      <td>590303</td>\n",
       "      <td>4</td>\n",
       "      <td>2022-07-22</td>\n",
       "    </tr>\n",
       "    <tr>\n",
       "      <th>4</th>\n",
       "      <td>0</td>\n",
       "      <td>590692</td>\n",
       "      <td>5</td>\n",
       "      <td>2022-07-22</td>\n",
       "    </tr>\n",
       "    <tr>\n",
       "      <th>...</th>\n",
       "      <td>...</td>\n",
       "      <td>...</td>\n",
       "      <td>...</td>\n",
       "      <td>...</td>\n",
       "    </tr>\n",
       "    <tr>\n",
       "      <th>214720733</th>\n",
       "      <td>1374582</td>\n",
       "      <td>95514767</td>\n",
       "      <td>288</td>\n",
       "      <td>2022-12-29</td>\n",
       "    </tr>\n",
       "    <tr>\n",
       "      <th>214720734</th>\n",
       "      <td>1374582</td>\n",
       "      <td>97220301</td>\n",
       "      <td>289</td>\n",
       "      <td>2022-12-29</td>\n",
       "    </tr>\n",
       "    <tr>\n",
       "      <th>214720735</th>\n",
       "      <td>1374582</td>\n",
       "      <td>97241171</td>\n",
       "      <td>290</td>\n",
       "      <td>2022-12-29</td>\n",
       "    </tr>\n",
       "    <tr>\n",
       "      <th>214720736</th>\n",
       "      <td>1374582</td>\n",
       "      <td>98542641</td>\n",
       "      <td>291</td>\n",
       "      <td>2022-12-29</td>\n",
       "    </tr>\n",
       "    <tr>\n",
       "      <th>214720737</th>\n",
       "      <td>1374582</td>\n",
       "      <td>100736375</td>\n",
       "      <td>292</td>\n",
       "      <td>2022-12-30</td>\n",
       "    </tr>\n",
       "  </tbody>\n",
       "</table>\n",
       "<p>214720738 rows × 4 columns</p>\n",
       "</div>"
      ],
      "text/plain": [
       "           user_id   track_id  track_seq started_at\n",
       "0                0      99262          1 2022-07-17\n",
       "1                0     589498          2 2022-07-19\n",
       "2                0     590262          3 2022-07-21\n",
       "3                0     590303          4 2022-07-22\n",
       "4                0     590692          5 2022-07-22\n",
       "...            ...        ...        ...        ...\n",
       "214720733  1374582   95514767        288 2022-12-29\n",
       "214720734  1374582   97220301        289 2022-12-29\n",
       "214720735  1374582   97241171        290 2022-12-29\n",
       "214720736  1374582   98542641        291 2022-12-29\n",
       "214720737  1374582  100736375        292 2022-12-30\n",
       "\n",
       "[214720738 rows x 4 columns]"
      ]
     },
     "execution_count": 15,
     "metadata": {},
     "output_type": "execute_result"
    }
   ],
   "source": [
    "interactions"
   ]
  },
  {
   "cell_type": "code",
   "execution_count": 16,
   "id": "a3e765c6",
   "metadata": {},
   "outputs": [
    {
     "data": {
      "text/plain": [
       "0.9979297444165798"
      ]
     },
     "execution_count": 16,
     "metadata": {},
     "output_type": "execute_result"
    }
   ],
   "source": [
    "214720738/215166187"
   ]
  },
  {
   "cell_type": "code",
   "execution_count": 12,
   "id": "9957b5e6",
   "metadata": {},
   "outputs": [
    {
     "data": {
      "text/plain": [
       "19023"
      ]
     },
     "execution_count": 12,
     "metadata": {},
     "output_type": "execute_result"
    }
   ],
   "source": [
    "len(unseen_tracks)"
   ]
  },
  {
   "cell_type": "markdown",
   "id": "318b573a-9e2d-4808-95db-60cfb8bbdb73",
   "metadata": {
    "editable": true,
    "slideshow": {
     "slide_type": ""
    },
    "tags": []
   },
   "source": [
    "# Выводы"
   ]
  },
  {
   "cell_type": "markdown",
   "id": "caa96e12-36a8-4401-8f11-98627a49ae9d",
   "metadata": {},
   "source": [
    "Приведём выводы по первому знакомству с данными:\n",
    "- есть ли с данными явные проблемы,\n",
    "- какие корректирующие действия (в целом) были предприняты."
   ]
  },
  {
   "cell_type": "markdown",
   "id": "6b458b99",
   "metadata": {},
   "source": [
    "Особо явных проблем не выявила. Только небольшой процент треков с неизвестным жанром, принято решение удалить\n",
    "преобразовала только листы разложила, для более удобного использования. "
   ]
  },
  {
   "cell_type": "markdown",
   "id": "7bc3296b-eba6-4333-a78d-b9304aa87e3d",
   "metadata": {},
   "source": [
    "# === ЭТАП 2 ==="
   ]
  },
  {
   "cell_type": "markdown",
   "id": "68e73960-fd38-4e15-8db0-9a25c35dfd25",
   "metadata": {},
   "source": [
    "# EDA"
   ]
  },
  {
   "cell_type": "markdown",
   "id": "a30e823e-8e0f-4a76-a02e-8d1ba8bf0f8a",
   "metadata": {},
   "source": [
    "Распределение количества прослушанных треков."
   ]
  },
  {
   "cell_type": "markdown",
   "id": "5242c649",
   "metadata": {},
   "source": [
    "Посмотрим на распределение количества прослушанных треков для каждого пользователя."
   ]
  },
  {
   "cell_type": "code",
   "execution_count": 17,
   "id": "9bf5eaba-35f7-4da7-be59-9ab4a34b2423",
   "metadata": {},
   "outputs": [
    {
     "data": {
      "image/png": "[encoded data removed]",
      "text/plain": [
       "<Figure size 1000x600 with 1 Axes>"
      ]
     },
     "metadata": {},
     "output_type": "display_data"
    }
   ],
   "source": [
    "# Подсчёт количества прослушанных треков для каждого пользователя\n",
    "user_track_counts = interactions.groupby(\"user_id\").size()\n",
    "\n",
    "# График распределения количества прослушанных треков\n",
    "plt.figure(figsize=(10, 6))\n",
    "sns.histplot(user_track_counts, bins=50, kde=True)\n",
    "plt.title(\"Распределение количества прослушанных треков\")\n",
    "plt.xlabel(\"Количество прослушанных треков\")\n",
    "plt.ylabel(\"Частота\")\n",
    "plt.show()"
   ]
  },
  {
   "cell_type": "markdown",
   "id": "d765519a-18dd-4d30-9e29-cc2d84cacd79",
   "metadata": {},
   "source": [
    "Наиболее популярные треки"
   ]
  },
  {
   "cell_type": "code",
   "execution_count": 24,
   "id": "aecaf630-fde0-4860-b84a-42c933a9606e",
   "metadata": {},
   "outputs": [
    {
     "data": {
      "image/png": "[encoded data removed]",
      "text/plain": [
       "<Figure size 1000x600 with 1 Axes>"
      ]
     },
     "metadata": {},
     "output_type": "display_data"
    }
   ],
   "source": [
    "# Подсчёт количества прослушиваний для каждого трека\n",
    "track_popularity = interactions.groupby(\"track_id\").size().sort_values(ascending=False)\n",
    "\n",
    "# Топ-10 популярных треков\n",
    "top_10_tracks = track_popularity.head(10).reset_index()\n",
    "result = pd.merge(top_10_tracks,\n",
    "                   catalog_names[catalog_names[\"type\"] == \"track\"], \n",
    "                   left_on=\"track_id\", right_on=\"id\", how=\"inner\")\n",
    "\n",
    "# График топ-10 популярных треков\n",
    "plt.figure(figsize=(10, 6))\n",
    "sns.barplot(x=result[0], y=result[\"name\"])\n",
    "plt.title(\"Топ-10 популярных треков\")\n",
    "plt.xlabel(\"Количество прослушиваний\")\n",
    "plt.ylabel(\"Трек\")\n",
    "plt.show()\n"
   ]
  },
  {
   "cell_type": "markdown",
   "id": "b1c32a5a-d3be-4f96-8dd9-f7860951020c",
   "metadata": {},
   "source": [
    "Наиболее популярные жанры"
   ]
  },
  {
   "cell_type": "code",
   "execution_count": 19,
   "id": "1bc50491-9235-4d3c-a6c2-297f7c05a959",
   "metadata": {},
   "outputs": [
    {
     "data": {
      "image/png": "[encoded data removed]",
      "text/plain": [
       "<Figure size 1000x600 with 1 Axes>"
      ]
     },
     "metadata": {},
     "output_type": "display_data"
    }
   ],
   "source": [
    "\n",
    "# Подсчёт количества прослушиваний для каждого жанра\n",
    "unique_tracks = tracks[[\"genres\", 'track_id']].drop_duplicates()\n",
    "genre_popularity = unique_tracks.groupby(\"genres\").size().sort_values(ascending=False)\n",
    "\n",
    "# Топ-10 популярных жанров\n",
    "top_10_genres = genre_popularity.head(10).reset_index()\n",
    "result = pd.merge(top_10_genres,\n",
    "                   catalog_names[catalog_names[\"type\"] == \"genre\"], \n",
    "                   left_on=\"genres\", right_on=\"id\", how=\"inner\")\n",
    "\n",
    "# График топ-10 популярных жанров\n",
    "plt.figure(figsize=(10, 6))\n",
    "sns.barplot(x=result[0], y=result[\"name\"])\n",
    "plt.title(\"Топ-10 популярных жанров\")\n",
    "plt.xlabel(\"Количество произведений с таким жанром\")\n",
    "plt.ylabel(\"Жанр\")\n",
    "plt.show()\n"
   ]
  },
  {
   "cell_type": "markdown",
   "id": "15254e66-e80e-473b-ba24-abebea5ccac7",
   "metadata": {},
   "source": [
    "Треки, которые никто не прослушал"
   ]
  },
  {
   "cell_type": "code",
   "execution_count": 30,
   "id": "50bc50c6-2d83-4c7e-97fa-3e7627978438",
   "metadata": {},
   "outputs": [
    {
     "name": "stdout",
     "output_type": "stream",
     "text": [
      "Количество треков, которые никто не прослушал: 0\n"
     ]
    }
   ],
   "source": [
    "# Найдём треки, которые не были прослушаны\n",
    "unlistened_tracks = tracks[~tracks[\"track_id\"].isin(interactions[\"track_id\"])]\n",
    "\n",
    "print(f\"Количество треков, которые никто не прослушал: {len(unlistened_tracks)}\")"
   ]
  },
  {
   "cell_type": "code",
   "execution_count": 4,
   "id": "91b1b67d",
   "metadata": {},
   "outputs": [],
   "source": []
  },
  {
   "cell_type": "code",
   "execution_count": 4,
   "id": "34498b70",
   "metadata": {},
   "outputs": [
    {
     "data": {
      "text/plain": [
       "35                                                2022-11-02 00:00:00\n",
       "34                                                2022-12-15 00:00:00\n",
       "34                                                2022-10-01 00:00:00\n",
       "122                                               2022-07-04 00:00:00\n",
       "376                                               2022-08-20 00:00:00\n",
       "                                          ...                        \n",
       "1305                                              2022-11-08 00:00:00\n",
       "155                                               2022-10-11 00:00:00\n",
       "232                                               2022-12-24 00:00:00\n",
       "201                                               2022-07-08 00:00:00\n",
       "started_at_month    35      2022-11-01\n",
       "34      2022-12-01\n",
       "34      ...\n",
       "Name: started_at, Length: 1000001, dtype: object"
      ]
     },
     "execution_count": 4,
     "metadata": {},
     "output_type": "execute_result"
    }
   ],
   "source": [
    "interactions"
   ]
  },
  {
   "cell_type": "code",
   "execution_count": 6,
   "id": "8f669a30",
   "metadata": {},
   "outputs": [
    {
     "data": {
      "text/html": [
       "<div>\n",
       "<style scoped>\n",
       "    .dataframe tbody tr th:only-of-type {\n",
       "        vertical-align: middle;\n",
       "    }\n",
       "\n",
       "    .dataframe tbody tr th {\n",
       "        vertical-align: top;\n",
       "    }\n",
       "\n",
       "    .dataframe thead th {\n",
       "        text-align: right;\n",
       "    }\n",
       "</style>\n",
       "<table border=\"1\" class=\"dataframe\">\n",
       "  <thead>\n",
       "    <tr style=\"text-align: right;\">\n",
       "      <th></th>\n",
       "      <th>started_at_month</th>\n",
       "      <th>events</th>\n",
       "      <th>users</th>\n",
       "    </tr>\n",
       "  </thead>\n",
       "  <tbody>\n",
       "    <tr>\n",
       "      <th>0</th>\n",
       "      <td>2022-01-01</td>\n",
       "      <td>10804</td>\n",
       "      <td>7713</td>\n",
       "    </tr>\n",
       "    <tr>\n",
       "      <th>1</th>\n",
       "      <td>2022-02-01</td>\n",
       "      <td>20243</td>\n",
       "      <td>15803</td>\n",
       "    </tr>\n",
       "    <tr>\n",
       "      <th>2</th>\n",
       "      <td>2022-03-01</td>\n",
       "      <td>34507</td>\n",
       "      <td>27306</td>\n",
       "    </tr>\n",
       "    <tr>\n",
       "      <th>3</th>\n",
       "      <td>2022-04-01</td>\n",
       "      <td>46106</td>\n",
       "      <td>36928</td>\n",
       "    </tr>\n",
       "    <tr>\n",
       "      <th>4</th>\n",
       "      <td>2022-05-01</td>\n",
       "      <td>61258</td>\n",
       "      <td>49062</td>\n",
       "    </tr>\n",
       "    <tr>\n",
       "      <th>5</th>\n",
       "      <td>2022-06-01</td>\n",
       "      <td>73045</td>\n",
       "      <td>59242</td>\n",
       "    </tr>\n",
       "    <tr>\n",
       "      <th>6</th>\n",
       "      <td>2022-07-01</td>\n",
       "      <td>90548</td>\n",
       "      <td>72820</td>\n",
       "    </tr>\n",
       "    <tr>\n",
       "      <th>7</th>\n",
       "      <td>2022-08-01</td>\n",
       "      <td>107837</td>\n",
       "      <td>86874</td>\n",
       "    </tr>\n",
       "    <tr>\n",
       "      <th>8</th>\n",
       "      <td>2022-09-01</td>\n",
       "      <td>120735</td>\n",
       "      <td>97793</td>\n",
       "    </tr>\n",
       "    <tr>\n",
       "      <th>9</th>\n",
       "      <td>2022-10-01</td>\n",
       "      <td>142992</td>\n",
       "      <td>114343</td>\n",
       "    </tr>\n",
       "    <tr>\n",
       "      <th>10</th>\n",
       "      <td>2022-11-01</td>\n",
       "      <td>152545</td>\n",
       "      <td>121638</td>\n",
       "    </tr>\n",
       "    <tr>\n",
       "      <th>11</th>\n",
       "      <td>2022-12-01</td>\n",
       "      <td>139380</td>\n",
       "      <td>110907</td>\n",
       "    </tr>\n",
       "  </tbody>\n",
       "</table>\n",
       "</div>"
      ],
      "text/plain": [
       "   started_at_month  events   users\n",
       "0        2022-01-01   10804    7713\n",
       "1        2022-02-01   20243   15803\n",
       "2        2022-03-01   34507   27306\n",
       "3        2022-04-01   46106   36928\n",
       "4        2022-05-01   61258   49062\n",
       "5        2022-06-01   73045   59242\n",
       "6        2022-07-01   90548   72820\n",
       "7        2022-08-01  107837   86874\n",
       "8        2022-09-01  120735   97793\n",
       "9        2022-10-01  142992  114343\n",
       "10       2022-11-01  152545  121638\n",
       "11       2022-12-01  139380  110907"
      ]
     },
     "execution_count": 6,
     "metadata": {},
     "output_type": "execute_result"
    }
   ],
   "source": [
    "from pandas.tseries.offsets import MonthEnd\n",
    "import pandas as pd\n",
    "interactions = pd.read_parquet(\"interactions.parquet\").sample(1000000)\n",
    "interactions[\"started_at_month\"] = pd.to_datetime(interactions[\"started_at\"]).dt.to_period('M').dt.to_timestamp().dt.date\n",
    "interactions_by_month = interactions.groupby(\"started_at_month\").agg(events=(\"started_at\", \"count\"), users=(\"user_id\", \"nunique\")).reset_index()\n",
    "interactions_by_month"
   ]
  },
  {
   "cell_type": "code",
   "execution_count": 9,
   "id": "938611aa",
   "metadata": {},
   "outputs": [
    {
     "data": {
      "image/png": "[encoded data removed]",
      "text/plain": [
       "<Figure size 1200x600 with 2 Axes>"
      ]
     },
     "metadata": {},
     "output_type": "display_data"
    }
   ],
   "source": [
    "# распределение взаимодействий по годам\n",
    "\n",
    "fig, axs = plt.subplots(2, 1, figsize=(12, 6))\n",
    "\n",
    "ax = axs[0]\n",
    "ax.plot(interactions_by_month[\"started_at_month\"], interactions_by_month[\"events\"])\n",
    "# ax.tick_params(axis='x', labelsize=8)\n",
    "ax.set_title(\"#events by months\")\n",
    "\n",
    "ax = axs[1]\n",
    "ax.plot(interactions_by_month[\"started_at_month\"], interactions_by_month[\"users\"])\n",
    "# ax.tick_params(axis='x', labelsize=8)\n",
    "ax.set_title(\"#users by months\")\n",
    "\n",
    "fig.tight_layout()"
   ]
  },
  {
   "cell_type": "markdown",
   "id": "fe4386b7",
   "metadata": {},
   "source": [
    "# Преобразование данных"
   ]
  },
  {
   "cell_type": "code",
   "execution_count": 17,
   "id": "af9df6eb",
   "metadata": {},
   "outputs": [
    {
     "name": "stdout",
     "output_type": "stream",
     "text": [
      "          track_id    albums   artists genres      albums_name  \\\n",
      "0               26         3        16     11  Taller Children   \n",
      "1               26         3        16     21  Taller Children   \n",
      "2               26   2490753        16     11  Taller Children   \n",
      "3               26   2490753        16     21  Taller Children   \n",
      "4               38         3        16     11  Taller Children   \n",
      "...            ...       ...       ...    ...              ...   \n",
      "6250606  101493057  21403883  11865715     75         SKITTLES   \n",
      "6250607  101495927  21404975   4462686      3           Москва   \n",
      "6250608  101495927  21404975   4462686     75           Москва   \n",
      "6250609  101521819  21414638   5056591      3           Вокзал   \n",
      "6250610  101521819  21414638   5056591     75           Вокзал   \n",
      "\n",
      "                     artists_name genres_name  \n",
      "0        Elizabeth & the Catapult         pop  \n",
      "1        Elizabeth & the Catapult        folk  \n",
      "2        Elizabeth & the Catapult         pop  \n",
      "3        Elizabeth & the Catapult        folk  \n",
      "4        Elizabeth & the Catapult         pop  \n",
      "...                           ...         ...  \n",
      "6250606                  WhyBaby?         rap  \n",
      "6250607                     Yanix      rusrap  \n",
      "6250608                     Yanix         rap  \n",
      "6250609                  Джарахов      rusrap  \n",
      "6250610                  Джарахов         rap  \n",
      "\n",
      "[6250611 rows x 7 columns]\n"
     ]
    }
   ],
   "source": [
    "def join_and_add_name(tracks, catalog_names, key, new_column_name, type_filter):\n",
    "    filtered_catalog = catalog_names[catalog_names[\"type\"] == type_filter]\n",
    "    merged = tracks.merge(filtered_catalog, left_on=key, right_on=\"id\", how=\"left\")\n",
    "    merged = merged.drop(columns=[\"id\", \"type\"]).rename(columns={\"name\": new_column_name})\n",
    "    return merged\n",
    "# Джойн для albums\n",
    "tracks = join_and_add_name(tracks, catalog_names, \"albums\", \"albums_name\", \"album\")\n",
    "\n",
    "# Джойн для artists\n",
    "tracks = join_and_add_name(tracks, catalog_names, \"artists\", \"artists_name\", \"artist\")\n",
    "\n",
    "# Джойн для genres\n",
    "tracks = join_and_add_name(tracks, catalog_names, \"genres\", \"genres_name\", \"genre\")\n",
    "\n",
    "# Печать результата\n",
    "print(tracks)"
   ]
  },
  {
   "cell_type": "markdown",
   "id": "4d1be653-eed8-4fa0-a9c5-3811b080d71d",
   "metadata": {},
   "source": [
    "# Сохранение данных"
   ]
  },
  {
   "cell_type": "markdown",
   "id": "36f1314a-3af3-4faf-a0b1-3045173d1500",
   "metadata": {},
   "source": [
    "Сохраним данные в двух файлах в персональном S3-бакете по пути `recsys/data/`:\n",
    "- `items.parquet` — все данные о музыкальных треках,\n",
    "- `events.parquet` — все данные о взаимодействиях."
   ]
  },
  {
   "cell_type": "code",
   "execution_count": 18,
   "id": "4d11ae12",
   "metadata": {},
   "outputs": [],
   "source": [
    "tracks.to_parquet(\"items.parquet\")\n",
    "interactions.to_parquet(\"events.parquet\")"
   ]
  },
  {
   "cell_type": "code",
   "execution_count": 13,
   "id": "9460dce9",
   "metadata": {},
   "outputs": [
    {
     "data": {
      "text/plain": [
       "True"
      ]
     },
     "execution_count": 13,
     "metadata": {},
     "output_type": "execute_result"
    }
   ],
   "source": [
    "import os\n",
    "import sys\n",
    "\n",
    "import boto3\n",
    "from dotenv import load_dotenv\n",
    "load_dotenv()"
   ]
  },
  {
   "cell_type": "code",
   "execution_count": 14,
   "id": "279f32a3",
   "metadata": {},
   "outputs": [],
   "source": [
    "client = boto3.client(\n",
    "            service_name='s3',\n",
    "            endpoint_url='https://storage.yandexcloud.net',\n",
    "            aws_access_key_id=os.getenv('AWS_ACCESS_KEY_ID'),\n",
    "            aws_secret_access_key=os.getenv('AWS_SECRET_ACCESS_KEY')\n",
    "        )\n",
    "bucket = os.getenv('S3_BUCKET_NAME')"
   ]
  },
  {
   "cell_type": "code",
   "execution_count": 14,
   "id": "8ae62a75",
   "metadata": {},
   "outputs": [],
   "source": [
    "client.upload_file('items.parquet', bucket, 'recsys/data/items.parquet')\n",
    "client.upload_file('events.parquet', bucket, 'recsys/data/events.parquet')"
   ]
  },
  {
   "cell_type": "code",
   "execution_count": 22,
   "id": "4f51e891",
   "metadata": {},
   "outputs": [
    {
     "name": "stdout",
     "output_type": "stream",
     "text": [
      "{'Key': 'recsys/data/events.parquet', 'LastModified': datetime.datetime(2024, 9, 1, 7, 47, 58, 129000, tzinfo=tzlocal()), 'ETag': '\"e67d5861d9f8c7558489ba81955d0e09-123\"', 'Size': 1028168763, 'StorageClass': 'STANDARD', 'Owner': {'DisplayName': 'ajeq26s98m0ssapaa27m', 'ID': 'ajeq26s98m0ssapaa27m'}}\n",
      "{'Key': 'recsys/data/items.parquet', 'LastModified': datetime.datetime(2024, 9, 1, 7, 47, 53, 994000, tzinfo=tzlocal()), 'ETag': '\"8640ce97fb4356edaf634523e6ffca63-8\"', 'Size': 63731499, 'StorageClass': 'STANDARD', 'Owner': {'DisplayName': 'ajeq26s98m0ssapaa27m', 'ID': 'ajeq26s98m0ssapaa27m'}}\n"
     ]
    }
   ],
   "source": [
    "objects = client.list_objects_v2(Bucket=bucket)['Contents']\n",
    "for obj in objects:\n",
    "    if 'recsys' in obj['Key']:\n",
    "        print(obj)"
   ]
  },
  {
   "cell_type": "markdown",
   "id": "72ecbbed-c560-44d9-9c14-86c7dc76f399",
   "metadata": {},
   "source": [
    "# Очистка памяти"
   ]
  },
  {
   "cell_type": "markdown",
   "id": "b5358ede-ba6e-4c4f-bd73-5b9344f0ba79",
   "metadata": {},
   "source": [
    "Здесь, может понадобится очистка памяти для высвобождения ресурсов для выполнения кода ниже. \n",
    "\n",
    "Приведите соответствующие код, комментарии, например:\n",
    "- код для удаление более ненужных переменных,\n",
    "- комментарий, что следует перезапустить kernel, выполнить такие-то начальные секции и продолжить с этапа 3."
   ]
  },
  {
   "cell_type": "code",
   "execution_count": 23,
   "id": "767fe920-e12e-4ad8-b04e-56e8091fac9f",
   "metadata": {},
   "outputs": [],
   "source": [
    "del tracks\n",
    "del interactions"
   ]
  },
  {
   "cell_type": "markdown",
   "id": "708503df-ee89-4cf3-8489-093dc478e2a8",
   "metadata": {},
   "source": [
    "# === ЭТАП 3 ==="
   ]
  },
  {
   "cell_type": "markdown",
   "id": "fd77de22-e10f-4b42-85c1-8fb6f805fe68",
   "metadata": {},
   "source": [
    "# Загрузка данных"
   ]
  },
  {
   "cell_type": "markdown",
   "id": "780a4241-1ecd-4a3e-bbb3-fc2f6ca94f68",
   "metadata": {},
   "source": [
    "Если необходимо, то загружаем items.parquet, events.parquet."
   ]
  },
  {
   "cell_type": "code",
   "execution_count": 4,
   "id": "f19fc8a5-bd2c-40d7-864a-ee75aca6d512",
   "metadata": {},
   "outputs": [],
   "source": [
    "items = pd.read_parquet(\"items.parquet\")\n",
    "events = pd.read_parquet(\"events.parquet\")\n",
    "\n"
   ]
  },
  {
   "cell_type": "code",
   "execution_count": 25,
   "id": "56dbfa59",
   "metadata": {},
   "outputs": [],
   "source": [
    "catalog_names = pd.read_parquet(\"catalog_names.parquet\")"
   ]
  },
  {
   "cell_type": "markdown",
   "id": "a694c023-6477-490b-939d-1cfa6f5f1b72",
   "metadata": {},
   "source": [
    "# Разбиение данных"
   ]
  },
  {
   "cell_type": "markdown",
   "id": "fbd5f6e0-54e7-4428-8678-eabce505d82c",
   "metadata": {},
   "source": [
    "Разбиваем данные на тренировочную, тестовую выборки."
   ]
  },
  {
   "cell_type": "code",
   "execution_count": 5,
   "id": "00c2dfa5-d8a2-47d1-922e-6eefee2c62d1",
   "metadata": {},
   "outputs": [
    {
     "name": "stdout",
     "output_type": "stream",
     "text": [
      "1341269 778789 748016\n"
     ]
    }
   ],
   "source": [
    "train_test_global_time_split_date = pd.to_datetime(\"2022-12-16\")\n",
    "\n",
    "train_test_global_time_split_idx = events[\"started_at\"] < train_test_global_time_split_date\n",
    "events_train = events[train_test_global_time_split_idx]\n",
    "events_test = events[~train_test_global_time_split_idx]\n",
    "\n",
    "# количество пользователей в train и test\n",
    "users_train = events_train[\"user_id\"].drop_duplicates()\n",
    "users_test = events_test[\"user_id\"].drop_duplicates()\n",
    "\n",
    "# Количество пользователей, которые есть и в train, и в test\n",
    "common_users = users_train[users_train.isin(users_test)]\n",
    "\n",
    "print(len(users_train), len(users_test), len(common_users)) "
   ]
  },
  {
   "cell_type": "code",
   "execution_count": 7,
   "id": "da5c45f3",
   "metadata": {},
   "outputs": [],
   "source": [
    "del items\n",
    "del events"
   ]
  },
  {
   "cell_type": "code",
   "execution_count": 30,
   "id": "d5af8080",
   "metadata": {},
   "outputs": [
    {
     "data": {
      "text/html": [
       "<div>\n",
       "<style scoped>\n",
       "    .dataframe tbody tr th:only-of-type {\n",
       "        vertical-align: middle;\n",
       "    }\n",
       "\n",
       "    .dataframe tbody tr th {\n",
       "        vertical-align: top;\n",
       "    }\n",
       "\n",
       "    .dataframe thead th {\n",
       "        text-align: right;\n",
       "    }\n",
       "</style>\n",
       "<table border=\"1\" class=\"dataframe\">\n",
       "  <thead>\n",
       "    <tr style=\"text-align: right;\">\n",
       "      <th></th>\n",
       "      <th>user_id</th>\n",
       "      <th>track_id</th>\n",
       "      <th>track_seq</th>\n",
       "      <th>started_at</th>\n",
       "    </tr>\n",
       "  </thead>\n",
       "  <tbody>\n",
       "    <tr>\n",
       "      <th>0</th>\n",
       "      <td>0</td>\n",
       "      <td>99262</td>\n",
       "      <td>1</td>\n",
       "      <td>2022-07-17</td>\n",
       "    </tr>\n",
       "    <tr>\n",
       "      <th>1</th>\n",
       "      <td>0</td>\n",
       "      <td>589498</td>\n",
       "      <td>2</td>\n",
       "      <td>2022-07-19</td>\n",
       "    </tr>\n",
       "    <tr>\n",
       "      <th>2</th>\n",
       "      <td>0</td>\n",
       "      <td>590262</td>\n",
       "      <td>3</td>\n",
       "      <td>2022-07-21</td>\n",
       "    </tr>\n",
       "    <tr>\n",
       "      <th>3</th>\n",
       "      <td>0</td>\n",
       "      <td>590303</td>\n",
       "      <td>4</td>\n",
       "      <td>2022-07-22</td>\n",
       "    </tr>\n",
       "    <tr>\n",
       "      <th>4</th>\n",
       "      <td>0</td>\n",
       "      <td>590692</td>\n",
       "      <td>5</td>\n",
       "      <td>2022-07-22</td>\n",
       "    </tr>\n",
       "    <tr>\n",
       "      <th>...</th>\n",
       "      <td>...</td>\n",
       "      <td>...</td>\n",
       "      <td>...</td>\n",
       "      <td>...</td>\n",
       "    </tr>\n",
       "    <tr>\n",
       "      <th>215166097</th>\n",
       "      <td>1374582</td>\n",
       "      <td>76512143</td>\n",
       "      <td>203</td>\n",
       "      <td>2022-12-15</td>\n",
       "    </tr>\n",
       "    <tr>\n",
       "      <th>215166098</th>\n",
       "      <td>1374582</td>\n",
       "      <td>76820953</td>\n",
       "      <td>204</td>\n",
       "      <td>2022-12-15</td>\n",
       "    </tr>\n",
       "    <tr>\n",
       "      <th>215166099</th>\n",
       "      <td>1374582</td>\n",
       "      <td>77549370</td>\n",
       "      <td>205</td>\n",
       "      <td>2022-12-15</td>\n",
       "    </tr>\n",
       "    <tr>\n",
       "      <th>215166100</th>\n",
       "      <td>1374582</td>\n",
       "      <td>77590298</td>\n",
       "      <td>206</td>\n",
       "      <td>2022-12-15</td>\n",
       "    </tr>\n",
       "    <tr>\n",
       "      <th>215166101</th>\n",
       "      <td>1374582</td>\n",
       "      <td>77948998</td>\n",
       "      <td>207</td>\n",
       "      <td>2022-12-15</td>\n",
       "    </tr>\n",
       "  </tbody>\n",
       "</table>\n",
       "<p>201601352 rows × 4 columns</p>\n",
       "</div>"
      ],
      "text/plain": [
       "           user_id  track_id  track_seq started_at\n",
       "0                0     99262          1 2022-07-17\n",
       "1                0    589498          2 2022-07-19\n",
       "2                0    590262          3 2022-07-21\n",
       "3                0    590303          4 2022-07-22\n",
       "4                0    590692          5 2022-07-22\n",
       "...            ...       ...        ...        ...\n",
       "215166097  1374582  76512143        203 2022-12-15\n",
       "215166098  1374582  76820953        204 2022-12-15\n",
       "215166099  1374582  77549370        205 2022-12-15\n",
       "215166100  1374582  77590298        206 2022-12-15\n",
       "215166101  1374582  77948998        207 2022-12-15\n",
       "\n",
       "[201601352 rows x 4 columns]"
      ]
     },
     "execution_count": 30,
     "metadata": {},
     "output_type": "execute_result"
    }
   ],
   "source": [
    "events_train"
   ]
  },
  {
   "cell_type": "markdown",
   "id": "0df1f8dd",
   "metadata": {},
   "source": [
    "#### Функции"
   ]
  },
  {
   "cell_type": "code",
   "execution_count": 3,
   "id": "cf369e7d",
   "metadata": {},
   "outputs": [],
   "source": [
    "def calculate_precision_recall(test_data, recommendations, top_k=5):\n",
    "    # Устанавливаем метку 'gt' для событий в тестовых данных\n",
    "    test_data[\"gt\"] = True\n",
    "    \n",
    "    # Находим пересечение пользователей в тестовых данных и рекомендациях\n",
    "    common_users = set(test_data[\"user_id\"].unique()) & set(recommendations[\"user_id\"].unique())\n",
    "    \n",
    "    test_data_common_users = test_data[test_data[\"user_id\"].isin(common_users)].copy()\n",
    "    recommendations_common_users = recommendations[recommendations[\"user_id\"].isin(common_users)].copy()\n",
    "\n",
    "    recommendations_common_users = recommendations_common_users.sort_values(by=[\"user_id\", \"score\"], ascending=[True, False])\n",
    "\n",
    "    # Оставляем только top_k рекомендаций для каждого пользователя\n",
    "    if top_k is not None:\n",
    "        recommendations_common_users = recommendations_common_users.groupby(\"user_id\").head(top_k)\n",
    "        \n",
    "    # Объединяем тестовые данные и рекомендации\n",
    "    merged_data = test_data_common_users[[\"user_id\", \"track_id\", \"gt\"]].merge(\n",
    "        recommendations_common_users[[\"user_id\", \"track_id\", \"score\"]], \n",
    "        on=[\"user_id\", \"track_id\"], how=\"outer\"\n",
    "    )\n",
    "    \n",
    "    # Заполняем пропуски в 'gt' значением False\n",
    "    merged_data[\"gt\"] = merged_data[\"gt\"].fillna(False)\n",
    "\n",
    "    # Устанавливаем метку 'pr' для предсказанных событий\n",
    "    merged_data[\"pr\"] = merged_data[\"score\"].notnull()\n",
    "    \n",
    "    merged_data[\"tp\"] = merged_data[\"gt\"] & merged_data[\"pr\"]\n",
    "    merged_data[\"fp\"] = ~merged_data[\"gt\"] & merged_data[\"pr\"]\n",
    "    merged_data[\"fn\"] = merged_data[\"gt\"] & ~merged_data[\"pr\"]\n",
    "\n",
    "    grouped_data = merged_data.groupby(\"user_id\")\n",
    "\n",
    "    # Точность = tp / (tp + fp)\n",
    "    precision = grouped_data[\"tp\"].sum() / (grouped_data[\"tp\"].sum() + grouped_data[\"fp\"].sum())\n",
    "    precision = precision.fillna(0).mean()\n",
    "    precision = round(precision, 4) * 100\n",
    "    \n",
    "    # Полнота = tp / (tp + fn)\n",
    "    recall = grouped_data[\"tp\"].sum() / (grouped_data[\"tp\"].sum() + grouped_data[\"fn\"].sum())\n",
    "    recall = recall.fillna(0).mean()\n",
    "    recall = round(recall, 4) * 100\n",
    "\n",
    "    return precision, recall\n",
    "def calculate_coverage(recommendations, all_tracks):\n",
    "    unique_tracks_in_recs = recommendations['track_id'].nunique()\n",
    "    total_available_tracks = len(all_tracks)\n",
    "    coverage_ratio = unique_tracks_in_recs / total_available_tracks\n",
    "    coverage_percentage = round(coverage_ratio, 4) * 100\n",
    "    \n",
    "    return coverage_percentage\n",
    "def calculate_novelty(recommendations, training_data, top_k=5):\n",
    "    # Оставляем только top_k рекомендаций для каждого пользователя\n",
    "    top_recommendations = (\n",
    "        recommendations\n",
    "        .sort_values(by=['user_id', 'score'], ascending=[True, False])\n",
    "        .groupby('user_id')\n",
    "        .head(top_k)\n",
    "        .reset_index(drop=True)\n",
    "        .copy()\n",
    "    )\n",
    "\n",
    "    # Фильтруем обучающие данные, оставляя только тех пользователей и треки, которые присутствуют в рекомендациях\n",
    "    filtered_training_data = (\n",
    "        training_data[\n",
    "            training_data['user_id'].isin(top_recommendations['user_id']) &\n",
    "            training_data['track_id'].isin(top_recommendations['track_id'])\n",
    "        ]\n",
    "        [['user_id', 'track_id']]\n",
    "        .reset_index(drop=True)\n",
    "        .copy()\n",
    "    )\n",
    "\n",
    "    # Помечаем события, которые уже известны пользователю\n",
    "    filtered_training_data['known'] = False\n",
    "\n",
    "    # Добавляем метку 'known' к рекомендациям\n",
    "    top_recommendations = top_recommendations.merge(\n",
    "        filtered_training_data[['user_id', 'track_id', 'known']],\n",
    "        on=['user_id', 'track_id'],\n",
    "        how='left'\n",
    "    )\n",
    "    top_recommendations['known'] = top_recommendations['known'].fillna(True).astype(bool)\n",
    "    novelty_ratio = top_recommendations.groupby('user_id')['known'].mean().mean()\n",
    "    novelty_percentage = round(novelty_ratio, 4) * 100\n",
    "\n",
    "    return novelty_percentage\n"
   ]
  },
  {
   "cell_type": "markdown",
   "id": "9131c7e6-8852-4556-b510-51f7253cc299",
   "metadata": {},
   "source": [
    "# Топ популярных"
   ]
  },
  {
   "cell_type": "markdown",
   "id": "0ccbfaa0",
   "metadata": {},
   "source": [
    "#### Расчет"
   ]
  },
  {
   "cell_type": "markdown",
   "id": "dd70d43a-88cc-4719-b291-feaed7136f30",
   "metadata": {},
   "source": [
    "Рассчитаем рекомендации как топ популярных."
   ]
  },
  {
   "cell_type": "code",
   "execution_count": 27,
   "id": "f8075265",
   "metadata": {},
   "outputs": [
    {
     "name": "stdout",
     "output_type": "stream",
     "text": [
      "30773\n"
     ]
    }
   ],
   "source": [
    "cold_users = users_test[~users_test.isin(users_train)]\n",
    "print(len(cold_users)) "
   ]
  },
  {
   "cell_type": "code",
   "execution_count": 28,
   "id": "ee45e200-b7d6-4f56-9077-aad431689b96",
   "metadata": {},
   "outputs": [
    {
     "name": "stdout",
     "output_type": "stream",
     "text": [
      "        track_id     score\n",
      "8215       53404  1.000000\n",
      "451664  33311009  0.857486\n",
      "24433     178529  0.854142\n",
      "478765  35505245  0.769064\n",
      "341295  24692821  0.588016\n",
      "...          ...       ...\n",
      "792889  68562711  0.005780\n",
      "842992  75944934  0.004952\n",
      "841718  75642961  0.003392\n",
      "393678  29175370  0.001513\n",
      "791486  68348389  0.000000\n",
      "\n",
      "[100 rows x 2 columns]\n"
     ]
    }
   ],
   "source": [
    "from sklearn.preprocessing import MinMaxScaler\n",
    "\n",
    "scaler = MinMaxScaler()\n",
    "k = 100\n",
    "item_popularity = events_train \\\n",
    "    .groupby(\"track_id\").agg(score=(\"user_id\", \"nunique\")).reset_index()\n",
    "# Сортируем по убыванию\n",
    "top_k_pop_items = item_popularity.sort_values(by=\"score\", ascending=False).head(k)\n",
    "top_k_pop_items[\"score\"]  = scaler.fit_transform(top_k_pop_items[['score']])\n",
    "\n",
    "print(top_k_pop_items)"
   ]
  },
  {
   "cell_type": "code",
   "execution_count": 29,
   "id": "d2959a97",
   "metadata": {},
   "outputs": [
    {
     "data": {
      "text/html": [
       "<div>\n",
       "<style scoped>\n",
       "    .dataframe tbody tr th:only-of-type {\n",
       "        vertical-align: middle;\n",
       "    }\n",
       "\n",
       "    .dataframe tbody tr th {\n",
       "        vertical-align: top;\n",
       "    }\n",
       "\n",
       "    .dataframe thead th {\n",
       "        text-align: right;\n",
       "    }\n",
       "</style>\n",
       "<table border=\"1\" class=\"dataframe\">\n",
       "  <thead>\n",
       "    <tr style=\"text-align: right;\">\n",
       "      <th></th>\n",
       "      <th>user_id</th>\n",
       "      <th>track_id</th>\n",
       "      <th>score</th>\n",
       "    </tr>\n",
       "  </thead>\n",
       "  <tbody>\n",
       "    <tr>\n",
       "      <th>0</th>\n",
       "      <td>3</td>\n",
       "      <td>53404</td>\n",
       "      <td>1.000000</td>\n",
       "    </tr>\n",
       "    <tr>\n",
       "      <th>1</th>\n",
       "      <td>3</td>\n",
       "      <td>33311009</td>\n",
       "      <td>0.857486</td>\n",
       "    </tr>\n",
       "    <tr>\n",
       "      <th>2</th>\n",
       "      <td>3</td>\n",
       "      <td>178529</td>\n",
       "      <td>0.854142</td>\n",
       "    </tr>\n",
       "    <tr>\n",
       "      <th>3</th>\n",
       "      <td>3</td>\n",
       "      <td>35505245</td>\n",
       "      <td>0.769064</td>\n",
       "    </tr>\n",
       "    <tr>\n",
       "      <th>4</th>\n",
       "      <td>3</td>\n",
       "      <td>24692821</td>\n",
       "      <td>0.588016</td>\n",
       "    </tr>\n",
       "    <tr>\n",
       "      <th>...</th>\n",
       "      <td>...</td>\n",
       "      <td>...</td>\n",
       "      <td>...</td>\n",
       "    </tr>\n",
       "    <tr>\n",
       "      <th>77878895</th>\n",
       "      <td>1374582</td>\n",
       "      <td>68562711</td>\n",
       "      <td>0.005780</td>\n",
       "    </tr>\n",
       "    <tr>\n",
       "      <th>77878896</th>\n",
       "      <td>1374582</td>\n",
       "      <td>75944934</td>\n",
       "      <td>0.004952</td>\n",
       "    </tr>\n",
       "    <tr>\n",
       "      <th>77878897</th>\n",
       "      <td>1374582</td>\n",
       "      <td>75642961</td>\n",
       "      <td>0.003392</td>\n",
       "    </tr>\n",
       "    <tr>\n",
       "      <th>77878898</th>\n",
       "      <td>1374582</td>\n",
       "      <td>29175370</td>\n",
       "      <td>0.001513</td>\n",
       "    </tr>\n",
       "    <tr>\n",
       "      <th>77878899</th>\n",
       "      <td>1374582</td>\n",
       "      <td>68348389</td>\n",
       "      <td>0.000000</td>\n",
       "    </tr>\n",
       "  </tbody>\n",
       "</table>\n",
       "<p>77878900 rows × 3 columns</p>\n",
       "</div>"
      ],
      "text/plain": [
       "          user_id  track_id     score\n",
       "0               3     53404  1.000000\n",
       "1               3  33311009  0.857486\n",
       "2               3    178529  0.854142\n",
       "3               3  35505245  0.769064\n",
       "4               3  24692821  0.588016\n",
       "...           ...       ...       ...\n",
       "77878895  1374582  68562711  0.005780\n",
       "77878896  1374582  75944934  0.004952\n",
       "77878897  1374582  75642961  0.003392\n",
       "77878898  1374582  29175370  0.001513\n",
       "77878899  1374582  68348389  0.000000\n",
       "\n",
       "[77878900 rows x 3 columns]"
      ]
     },
     "execution_count": 29,
     "metadata": {},
     "output_type": "execute_result"
    }
   ],
   "source": [
    "top_popular = (\n",
    "    events_test[['user_id']]\n",
    "    .drop_duplicates()\n",
    "    .reset_index(drop=True)\n",
    "    .merge(top_k_pop_items, how='cross')\n",
    "    .reset_index(drop=True)\n",
    ")\n",
    "top_popular"
   ]
  },
  {
   "cell_type": "code",
   "execution_count": 30,
   "id": "8f9aef6a",
   "metadata": {},
   "outputs": [],
   "source": [
    "top_k_pop_items.to_parquet('top_popular.parquet')"
   ]
  },
  {
   "cell_type": "code",
   "execution_count": 32,
   "id": "981fb027",
   "metadata": {},
   "outputs": [
    {
     "name": "stderr",
     "output_type": "stream",
     "text": [
      "/tmp/ipykernel_2450/2117868057.py:3: SettingWithCopyWarning: \n",
      "A value is trying to be set on a copy of a slice from a DataFrame.\n",
      "Try using .loc[row_indexer,col_indexer] = value instead\n",
      "\n",
      "See the caveats in the documentation: https://pandas.pydata.org/pandas-docs/stable/user_guide/indexing.html#returning-a-view-versus-a-copy\n",
      "  test_data[\"gt\"] = True\n"
     ]
    },
    {
     "data": {
      "text/html": [
       "<div>\n",
       "<style scoped>\n",
       "    .dataframe tbody tr th:only-of-type {\n",
       "        vertical-align: middle;\n",
       "    }\n",
       "\n",
       "    .dataframe tbody tr th {\n",
       "        vertical-align: top;\n",
       "    }\n",
       "\n",
       "    .dataframe thead th {\n",
       "        text-align: right;\n",
       "    }\n",
       "</style>\n",
       "<table border=\"1\" class=\"dataframe\">\n",
       "  <thead>\n",
       "    <tr style=\"text-align: right;\">\n",
       "      <th></th>\n",
       "      <th>Metric</th>\n",
       "      <th>Value</th>\n",
       "    </tr>\n",
       "  </thead>\n",
       "  <tbody>\n",
       "    <tr>\n",
       "      <th>0</th>\n",
       "      <td>Precision</td>\n",
       "      <td>0.36</td>\n",
       "    </tr>\n",
       "    <tr>\n",
       "      <th>1</th>\n",
       "      <td>Recall</td>\n",
       "      <td>0.13</td>\n",
       "    </tr>\n",
       "    <tr>\n",
       "      <th>2</th>\n",
       "      <td>Coverage</td>\n",
       "      <td>0.00</td>\n",
       "    </tr>\n",
       "    <tr>\n",
       "      <th>3</th>\n",
       "      <td>Novelty</td>\n",
       "      <td>92.62</td>\n",
       "    </tr>\n",
       "  </tbody>\n",
       "</table>\n",
       "</div>"
      ],
      "text/plain": [
       "      Metric  Value\n",
       "0  Precision   0.36\n",
       "1     Recall   0.13\n",
       "2   Coverage   0.00\n",
       "3    Novelty  92.62"
      ]
     },
     "execution_count": 32,
     "metadata": {},
     "output_type": "execute_result"
    }
   ],
   "source": [
    "precision, recall = calculate_precision_recall(events_test, top_popular)\n",
    "coverage = calculate_coverage(top_popular, items)\n",
    "novelty = calculate_novelty(top_popular, events_train)\n",
    "top_popular_metrics = pd.DataFrame({\n",
    "        'Metric': ['Precision', 'Recall', 'Coverage', 'Novelty'],\n",
    "        'Value': [precision, recall, coverage, novelty]\n",
    "    })\n",
    "top_popular_metrics"
   ]
  },
  {
   "cell_type": "code",
   "execution_count": 31,
   "id": "49bb6015",
   "metadata": {},
   "outputs": [],
   "source": [
    "top_popular.to_parquet('top_popular.parquet')\n",
    "client.upload_file('top_popular.parquet', bucket, 'recsys/recommendations/top_popular.parquet')"
   ]
  },
  {
   "cell_type": "markdown",
   "id": "720ce54b",
   "metadata": {},
   "source": [
    "Метрики в целом низкие, мало рекомендуем релевантного и преимущественно нового.\n",
    "Но в целом при выборе просто 100 популярных - ожидаемо"
   ]
  },
  {
   "cell_type": "markdown",
   "id": "2ad231f2-6158-421a-b7fa-01d8bc3ed572",
   "metadata": {},
   "source": [
    "# Персональные"
   ]
  },
  {
   "cell_type": "markdown",
   "id": "86159460-cd9d-4b63-8248-604ea3c9aebf",
   "metadata": {},
   "source": [
    "Рассчитаем персональные рекомендации."
   ]
  },
  {
   "cell_type": "code",
   "execution_count": 8,
   "id": "d2944822-569c-4f9b-82dc-70a7fa2d542e",
   "metadata": {},
   "outputs": [
    {
     "name": "stderr",
     "output_type": "stream",
     "text": [
      "/tmp/ipykernel_2729/1913820112.py:8: SettingWithCopyWarning: \n",
      "A value is trying to be set on a copy of a slice from a DataFrame.\n",
      "Try using .loc[row_indexer,col_indexer] = value instead\n",
      "\n",
      "See the caveats in the documentation: https://pandas.pydata.org/pandas-docs/stable/user_guide/indexing.html#returning-a-view-versus-a-copy\n",
      "  events_train[\"user_id_enc\"] = user_encoder.transform(events_train[\"user_id\"])\n",
      "/tmp/ipykernel_2729/1913820112.py:9: SettingWithCopyWarning: \n",
      "A value is trying to be set on a copy of a slice from a DataFrame.\n",
      "Try using .loc[row_indexer,col_indexer] = value instead\n",
      "\n",
      "See the caveats in the documentation: https://pandas.pydata.org/pandas-docs/stable/user_guide/indexing.html#returning-a-view-versus-a-copy\n",
      "  events_test[\"user_id_enc\"] = user_encoder.transform(events_test[\"user_id\"])\n",
      "/tmp/ipykernel_2729/1913820112.py:16: SettingWithCopyWarning: \n",
      "A value is trying to be set on a copy of a slice from a DataFrame.\n",
      "Try using .loc[row_indexer,col_indexer] = value instead\n",
      "\n",
      "See the caveats in the documentation: https://pandas.pydata.org/pandas-docs/stable/user_guide/indexing.html#returning-a-view-versus-a-copy\n",
      "  events_train[\"track_id_enc\"] = item_encoder.transform(events_train[\"track_id\"])\n",
      "/tmp/ipykernel_2729/1913820112.py:17: SettingWithCopyWarning: \n",
      "A value is trying to be set on a copy of a slice from a DataFrame.\n",
      "Try using .loc[row_indexer,col_indexer] = value instead\n",
      "\n",
      "See the caveats in the documentation: https://pandas.pydata.org/pandas-docs/stable/user_guide/indexing.html#returning-a-view-versus-a-copy\n",
      "  events_test[\"track_id_enc\"] = item_encoder.transform(events_test[\"track_id\"])\n"
     ]
    }
   ],
   "source": [
    "import scipy\n",
    "import sklearn.preprocessing\n",
    "\n",
    "# перекодируем идентификаторы пользователей: \n",
    "# из имеющихся в последовательность 0, 1, 2, ...\n",
    "user_encoder = sklearn.preprocessing.LabelEncoder()\n",
    "user_encoder.fit(events[\"user_id\"])\n",
    "events_train[\"user_id_enc\"] = user_encoder.transform(events_train[\"user_id\"])\n",
    "events_test[\"user_id_enc\"] = user_encoder.transform(events_test[\"user_id\"])\n",
    "\n",
    "# перекодируем идентификаторы объектов: \n",
    "# из имеющихся в последовательность 0, 1, 2, ...\n",
    "item_encoder = sklearn.preprocessing.LabelEncoder()\n",
    "item_encoder.fit(items[\"track_id\"])\n",
    "items[\"track_id_enc\"] = item_encoder.transform(items[\"track_id\"])\n",
    "events_train[\"track_id_enc\"] = item_encoder.transform(events_train[\"track_id\"])\n",
    "events_test[\"track_id_enc\"] = item_encoder.transform(events_test[\"track_id\"])"
   ]
  },
  {
   "cell_type": "code",
   "execution_count": 34,
   "id": "1e8cdb58-3a8c-45ad-8e5f-7f950314aa56",
   "metadata": {},
   "outputs": [
    {
     "data": {
      "text/html": [
       "<div>\n",
       "<style scoped>\n",
       "    .dataframe tbody tr th:only-of-type {\n",
       "        vertical-align: middle;\n",
       "    }\n",
       "\n",
       "    .dataframe tbody tr th {\n",
       "        vertical-align: top;\n",
       "    }\n",
       "\n",
       "    .dataframe thead th {\n",
       "        text-align: right;\n",
       "    }\n",
       "</style>\n",
       "<table border=\"1\" class=\"dataframe\">\n",
       "  <thead>\n",
       "    <tr style=\"text-align: right;\">\n",
       "      <th></th>\n",
       "      <th>user_id</th>\n",
       "      <th>track_id</th>\n",
       "      <th>track_seq</th>\n",
       "      <th>started_at</th>\n",
       "      <th>user_id_enc</th>\n",
       "      <th>track_id_enc</th>\n",
       "    </tr>\n",
       "  </thead>\n",
       "  <tbody>\n",
       "    <tr>\n",
       "      <th>0</th>\n",
       "      <td>0</td>\n",
       "      <td>99262</td>\n",
       "      <td>1</td>\n",
       "      <td>2022-07-17</td>\n",
       "      <td>0</td>\n",
       "      <td>14842</td>\n",
       "    </tr>\n",
       "    <tr>\n",
       "      <th>1</th>\n",
       "      <td>0</td>\n",
       "      <td>589498</td>\n",
       "      <td>2</td>\n",
       "      <td>2022-07-19</td>\n",
       "      <td>0</td>\n",
       "      <td>55479</td>\n",
       "    </tr>\n",
       "    <tr>\n",
       "      <th>2</th>\n",
       "      <td>0</td>\n",
       "      <td>590262</td>\n",
       "      <td>3</td>\n",
       "      <td>2022-07-21</td>\n",
       "      <td>0</td>\n",
       "      <td>55952</td>\n",
       "    </tr>\n",
       "    <tr>\n",
       "      <th>3</th>\n",
       "      <td>0</td>\n",
       "      <td>590303</td>\n",
       "      <td>4</td>\n",
       "      <td>2022-07-22</td>\n",
       "      <td>0</td>\n",
       "      <td>55975</td>\n",
       "    </tr>\n",
       "    <tr>\n",
       "      <th>4</th>\n",
       "      <td>0</td>\n",
       "      <td>590692</td>\n",
       "      <td>5</td>\n",
       "      <td>2022-07-22</td>\n",
       "      <td>0</td>\n",
       "      <td>56200</td>\n",
       "    </tr>\n",
       "    <tr>\n",
       "      <th>...</th>\n",
       "      <td>...</td>\n",
       "      <td>...</td>\n",
       "      <td>...</td>\n",
       "      <td>...</td>\n",
       "      <td>...</td>\n",
       "      <td>...</td>\n",
       "    </tr>\n",
       "    <tr>\n",
       "      <th>214720648</th>\n",
       "      <td>1374582</td>\n",
       "      <td>76512143</td>\n",
       "      <td>203</td>\n",
       "      <td>2022-12-15</td>\n",
       "      <td>1372041</td>\n",
       "      <td>845093</td>\n",
       "    </tr>\n",
       "    <tr>\n",
       "      <th>214720649</th>\n",
       "      <td>1374582</td>\n",
       "      <td>76820953</td>\n",
       "      <td>204</td>\n",
       "      <td>2022-12-15</td>\n",
       "      <td>1372041</td>\n",
       "      <td>846339</td>\n",
       "    </tr>\n",
       "    <tr>\n",
       "      <th>214720650</th>\n",
       "      <td>1374582</td>\n",
       "      <td>77549370</td>\n",
       "      <td>205</td>\n",
       "      <td>2022-12-15</td>\n",
       "      <td>1372041</td>\n",
       "      <td>849933</td>\n",
       "    </tr>\n",
       "    <tr>\n",
       "      <th>214720651</th>\n",
       "      <td>1374582</td>\n",
       "      <td>77590298</td>\n",
       "      <td>206</td>\n",
       "      <td>2022-12-15</td>\n",
       "      <td>1372041</td>\n",
       "      <td>850081</td>\n",
       "    </tr>\n",
       "    <tr>\n",
       "      <th>214720652</th>\n",
       "      <td>1374582</td>\n",
       "      <td>77948998</td>\n",
       "      <td>207</td>\n",
       "      <td>2022-12-15</td>\n",
       "      <td>1372041</td>\n",
       "      <td>852225</td>\n",
       "    </tr>\n",
       "  </tbody>\n",
       "</table>\n",
       "<p>201204460 rows × 6 columns</p>\n",
       "</div>"
      ],
      "text/plain": [
       "           user_id  track_id  track_seq started_at  user_id_enc  track_id_enc\n",
       "0                0     99262          1 2022-07-17            0         14842\n",
       "1                0    589498          2 2022-07-19            0         55479\n",
       "2                0    590262          3 2022-07-21            0         55952\n",
       "3                0    590303          4 2022-07-22            0         55975\n",
       "4                0    590692          5 2022-07-22            0         56200\n",
       "...            ...       ...        ...        ...          ...           ...\n",
       "214720648  1374582  76512143        203 2022-12-15      1372041        845093\n",
       "214720649  1374582  76820953        204 2022-12-15      1372041        846339\n",
       "214720650  1374582  77549370        205 2022-12-15      1372041        849933\n",
       "214720651  1374582  77590298        206 2022-12-15      1372041        850081\n",
       "214720652  1374582  77948998        207 2022-12-15      1372041        852225\n",
       "\n",
       "[201204460 rows x 6 columns]"
      ]
     },
     "execution_count": 34,
     "metadata": {},
     "output_type": "execute_result"
    }
   ],
   "source": [
    "events_train"
   ]
  },
  {
   "cell_type": "code",
   "execution_count": 36,
   "id": "61ff7437",
   "metadata": {},
   "outputs": [
    {
     "data": {
      "text/plain": [
       "932663"
      ]
     },
     "execution_count": 36,
     "metadata": {},
     "output_type": "execute_result"
    }
   ],
   "source": [
    "events_train['track_id_enc'].max()"
   ]
  },
  {
   "cell_type": "code",
   "execution_count": 5,
   "id": "e6752b88",
   "metadata": {},
   "outputs": [],
   "source": [
    "# создаём sparse-матрицу формата CSR \n",
    "user_item_matrix_train = scipy.sparse.csr_matrix((\n",
    "    np.ones(len(events_train)),\n",
    "    (events_train['user_id_enc'], events_train['track_id_enc'])),\n",
    "    dtype=np.int8)"
   ]
  },
  {
   "cell_type": "code",
   "execution_count": 39,
   "id": "1a2d2415",
   "metadata": {},
   "outputs": [
    {
     "data": {
      "text/plain": [
       "4.684656392782927"
      ]
     },
     "execution_count": 39,
     "metadata": {},
     "output_type": "execute_result"
    }
   ],
   "source": [
    "import sys\n",
    "\n",
    "sum([sys.getsizeof(i) for i in user_item_matrix_train.data])/1024**3"
   ]
  },
  {
   "cell_type": "code",
   "execution_count": 41,
   "id": "461d23dd",
   "metadata": {},
   "outputs": [
    {
     "name": "stderr",
     "output_type": "stream",
     "text": [
      "/home/mle-user/mle_projects/mle-airflow/.venv_project_name/lib/python3.10/site-packages/tqdm/auto.py:21: TqdmWarning: IProgress not found. Please update jupyter and ipywidgets. See https://ipywidgets.readthedocs.io/en/stable/user_install.html\n",
      "  from .autonotebook import tqdm as notebook_tqdm\n",
      "/home/mle-user/mle_projects/mle-airflow/.venv_project_name/lib/python3.10/site-packages/implicit/cpu/als.py:95: RuntimeWarning: OpenBLAS is configured to use 4 threads. It is highly recommended to disable its internal threadpool by setting the environment variable 'OPENBLAS_NUM_THREADS=1' or by calling 'threadpoolctl.threadpool_limits(1, \"blas\")'. Having OpenBLAS use a threadpool can lead to severe performance issues here.\n",
      "  check_blas_config()\n",
      "100%|██████████| 50/50 [1:34:30<00:00, 113.42s/it]\n"
     ]
    }
   ],
   "source": [
    "from implicit.als import AlternatingLeastSquares\n",
    "\n",
    "als_model = AlternatingLeastSquares(factors=50, iterations=50, regularization=0.05, random_state=0)\n",
    "als_model.fit(user_item_matrix_train)"
   ]
  },
  {
   "cell_type": "code",
   "execution_count": 42,
   "id": "09d1e176",
   "metadata": {},
   "outputs": [],
   "source": [
    "import pickle\n",
    "with open('models/als_model.pkl', 'wb') as f:\n",
    "       pickle.dump(als_model, f)"
   ]
  },
  {
   "cell_type": "code",
   "execution_count": 7,
   "id": "98da6a26",
   "metadata": {},
   "outputs": [
    {
     "name": "stderr",
     "output_type": "stream",
     "text": [
      "/home/mle-user/mle_projects/mle-airflow/.venv_project_name/lib/python3.10/site-packages/tqdm/auto.py:21: TqdmWarning: IProgress not found. Please update jupyter and ipywidgets. See https://ipywidgets.readthedocs.io/en/stable/user_install.html\n",
      "  from .autonotebook import tqdm as notebook_tqdm\n"
     ]
    }
   ],
   "source": [
    "import pickle\n",
    "with open('models/als_model.pkl', 'rb') as f:\n",
    "    als_model = pickle.load(f)"
   ]
  },
  {
   "cell_type": "code",
   "execution_count": 8,
   "id": "fe11f5c6",
   "metadata": {},
   "outputs": [],
   "source": [
    "# получаем список всех возможных user_id (перекодированных)\n",
    "user_ids_encoded = range(len(user_encoder.classes_))\n",
    "\n",
    "# получаем рекомендации для всех пользователей\n",
    "als_recommendations = als_model.recommend(\n",
    "    user_ids_encoded, \n",
    "    user_item_matrix_train[user_ids_encoded], \n",
    "    filter_already_liked_items=False, N=10)"
   ]
  },
  {
   "cell_type": "code",
   "execution_count": 9,
   "id": "ee109783",
   "metadata": {},
   "outputs": [],
   "source": [
    "# преобразуем полученные рекомендации в табличный формат\n",
    "item_ids_enc = als_recommendations[0]\n",
    "als_scores = als_recommendations[1]\n",
    "\n",
    "als_recommendations = pd.DataFrame({\n",
    "    \"user_id_enc\": user_ids_encoded,\n",
    "    \"track_id_enc\": item_ids_enc.tolist(), \n",
    "    \"score\": als_scores.tolist()})\n",
    "als_recommendations = als_recommendations.explode([\"track_id_enc\", \"score\"], ignore_index=True)\n",
    "\n",
    "# приводим типы данных\n",
    "als_recommendations[\"track_id_enc\"] = als_recommendations[\"track_id_enc\"].astype(\"int\")\n",
    "als_recommendations[\"score\"] = als_recommendations[\"score\"].astype(\"float\")\n",
    "\n",
    "# получаем изначальные идентификаторы\n",
    "als_recommendations[\"user_id\"] = user_encoder.inverse_transform(als_recommendations[\"user_id_enc\"])\n",
    "als_recommendations[\"track_id\"] = item_encoder.inverse_transform(als_recommendations[\"track_id_enc\"])\n",
    "als_recommendations = als_recommendations.drop(columns=[\"user_id_enc\", \"track_id_enc\"])"
   ]
  },
  {
   "cell_type": "code",
   "execution_count": 17,
   "id": "eb17f0ba",
   "metadata": {},
   "outputs": [
    {
     "name": "stderr",
     "output_type": "stream",
     "text": [
      "/tmp/ipykernel_2047/2117868057.py:3: SettingWithCopyWarning: \n",
      "A value is trying to be set on a copy of a slice from a DataFrame.\n",
      "Try using .loc[row_indexer,col_indexer] = value instead\n",
      "\n",
      "See the caveats in the documentation: https://pandas.pydata.org/pandas-docs/stable/user_guide/indexing.html#returning-a-view-versus-a-copy\n",
      "  test_data[\"gt\"] = True\n"
     ]
    },
    {
     "data": {
      "text/html": [
       "<div>\n",
       "<style scoped>\n",
       "    .dataframe tbody tr th:only-of-type {\n",
       "        vertical-align: middle;\n",
       "    }\n",
       "\n",
       "    .dataframe tbody tr th {\n",
       "        vertical-align: top;\n",
       "    }\n",
       "\n",
       "    .dataframe thead th {\n",
       "        text-align: right;\n",
       "    }\n",
       "</style>\n",
       "<table border=\"1\" class=\"dataframe\">\n",
       "  <thead>\n",
       "    <tr style=\"text-align: right;\">\n",
       "      <th></th>\n",
       "      <th>Metric</th>\n",
       "      <th>Value</th>\n",
       "    </tr>\n",
       "  </thead>\n",
       "  <tbody>\n",
       "    <tr>\n",
       "      <th>0</th>\n",
       "      <td>Precision</td>\n",
       "      <td>0.69</td>\n",
       "    </tr>\n",
       "    <tr>\n",
       "      <th>1</th>\n",
       "      <td>Recall</td>\n",
       "      <td>0.57</td>\n",
       "    </tr>\n",
       "    <tr>\n",
       "      <th>2</th>\n",
       "      <td>Coverage</td>\n",
       "      <td>0.05</td>\n",
       "    </tr>\n",
       "    <tr>\n",
       "      <th>3</th>\n",
       "      <td>Novelty</td>\n",
       "      <td>62.95</td>\n",
       "    </tr>\n",
       "  </tbody>\n",
       "</table>\n",
       "</div>"
      ],
      "text/plain": [
       "      Metric  Value\n",
       "0  Precision   0.69\n",
       "1     Recall   0.57\n",
       "2   Coverage   0.05\n",
       "3    Novelty  62.95"
      ]
     },
     "execution_count": 17,
     "metadata": {},
     "output_type": "execute_result"
    }
   ],
   "source": [
    "precision, recall = calculate_precision_recall(events_test, als_recommendations)\n",
    "coverage = calculate_coverage(als_recommendations, items)\n",
    "novelty = calculate_novelty(als_recommendations, events_train)\n",
    "als_recommendations_metrics = pd.DataFrame({\n",
    "        'Metric': ['Precision', 'Recall', 'Coverage', 'Novelty'],\n",
    "        'Value': [precision, recall, coverage, novelty]\n",
    "    })\n",
    "als_recommendations_metrics"
   ]
  },
  {
   "cell_type": "code",
   "execution_count": 15,
   "id": "a4c61ac8",
   "metadata": {},
   "outputs": [],
   "source": [
    "als_recommendations.to_parquet('als_recommendations.parquet')\n",
    "client.upload_file('als_recommendations.parquet', bucket, 'recsys/recommendations/als_recommendations.parquet')"
   ]
  },
  {
   "cell_type": "markdown",
   "id": "84287de9",
   "metadata": {},
   "source": [
    "В целом стали метрики лучше чем с топ 100, но есть куда расти, можно поиграться с параметрами обучения и рекомендации еще, но данных безумно много, каждый расчет занимает очень много времени "
   ]
  },
  {
   "cell_type": "markdown",
   "id": "5f09dc7e-7c91-4355-860a-b9cfb9f33f15",
   "metadata": {},
   "source": [
    "# Похожие"
   ]
  },
  {
   "cell_type": "markdown",
   "id": "1dfcb683-b440-40a8-9975-894156a53872",
   "metadata": {},
   "source": [
    "Рассчитаем похожие, они позже пригодятся для онлайн-рекомендаций."
   ]
  },
  {
   "cell_type": "code",
   "execution_count": 9,
   "id": "a12cac28",
   "metadata": {},
   "outputs": [
    {
     "name": "stderr",
     "output_type": "stream",
     "text": [
      "/home/mle-user/mle_projects/mle-airflow/.venv_project_name/lib/python3.10/site-packages/tqdm/auto.py:21: TqdmWarning: IProgress not found. Please update jupyter and ipywidgets. See https://ipywidgets.readthedocs.io/en/stable/user_install.html\n",
      "  from .autonotebook import tqdm as notebook_tqdm\n"
     ]
    }
   ],
   "source": [
    "import pickle\n",
    "with open('models/als_model.pkl', 'rb') as f:\n",
    "    als_model = pickle.load(f)"
   ]
  },
  {
   "cell_type": "code",
   "execution_count": 10,
   "id": "e5e13137",
   "metadata": {},
   "outputs": [
    {
     "data": {
      "text/plain": [
       "932664"
      ]
     },
     "execution_count": 10,
     "metadata": {},
     "output_type": "execute_result"
    }
   ],
   "source": [
    "len(item_encoder.classes_)"
   ]
  },
  {
   "cell_type": "code",
   "execution_count": 11,
   "id": "a75d07ee-4b12-4ce5-aa85-e45cb7a7a4f0",
   "metadata": {},
   "outputs": [],
   "source": [
    "item_ids_encoded = range(len(item_encoder.classes_))\n",
    "als_I2I_recommendations = als_model.similar_items(\n",
    "    item_ids_encoded, N=10)"
   ]
  },
  {
   "cell_type": "code",
   "execution_count": 12,
   "id": "ce370904-4c49-4152-8706-416074ea9b9a",
   "metadata": {},
   "outputs": [],
   "source": [
    "# преобразуем полученные рекомендации в табличный формат\n",
    "I2I_item_ids_enc = als_I2I_recommendations[0]\n",
    "I2I_als_scores = als_I2I_recommendations[1]\n",
    "\n",
    "als_I2I_recommendations = pd.DataFrame({\n",
    "    \"item_ids_encoded\": item_ids_encoded,\n",
    "    \"track_ids_recommended\": I2I_item_ids_enc.tolist(), \n",
    "    \"score\": I2I_als_scores.tolist()})\n",
    "als_I2I_recommendations = als_I2I_recommendations.explode([\"track_ids_recommended\", \"score\"], ignore_index=True)\n"
   ]
  },
  {
   "cell_type": "code",
   "execution_count": 13,
   "id": "4c0dab03",
   "metadata": {},
   "outputs": [],
   "source": [
    "als_I2I_recommendations.to_parquet('als_I2I_recommendations.parquet')\n",
    "client.upload_file('als_I2I_recommendations.parquet', bucket, 'recsys/recommendations/als_I2I_recommendations.parquet')"
   ]
  },
  {
   "cell_type": "markdown",
   "id": "0087a3e7-ca9f-42cd-944c-944222c1baef",
   "metadata": {},
   "source": [
    "# Построение признаков"
   ]
  },
  {
   "cell_type": "markdown",
   "id": "05b4ae84-406a-44a4-abec-4f80f93e3004",
   "metadata": {},
   "source": [
    "1. track_popularity - популярности прослушивания трека среди уникальных пользователей\n",
    "2. track_position - среднее положение трека в истории пользователей\n",
    "3. user_history_max - как много человек в целом слушает треков"
   ]
  },
  {
   "cell_type": "markdown",
   "id": "00f84c35-f544-4c3d-ad53-9b1d2b684c75",
   "metadata": {},
   "source": [
    "#### 1. track_popularity"
   ]
  },
  {
   "cell_type": "code",
   "execution_count": 5,
   "id": "4431b122",
   "metadata": {},
   "outputs": [],
   "source": [
    "# Функция для расчета  популярности\n",
    "def get_item_popularity(events: pd.DataFrame,item_name):\n",
    "\n",
    "    item_popularity = (\n",
    "        events\n",
    "        .groupby(item_name)\n",
    "        .agg(popularity=('user_id', 'count'))\n",
    "        .reset_index()\n",
    "        .sort_values(by='popularity', ascending=False, ignore_index=True)\n",
    "        .reset_index(drop=True)\n",
    "    )\n",
    "    item_popularity['popularity'] /= item_popularity['popularity'].max()\n",
    "    item_popularity['popularity'] = (\n",
    "        item_popularity['popularity'].astype('float32')\n",
    "    )\n",
    "    return item_popularity\n",
    "track_popularity = get_item_popularity(events_train, 'track_id')"
   ]
  },
  {
   "cell_type": "markdown",
   "id": "d879051e",
   "metadata": {},
   "source": [
    "#### 2. track_position"
   ]
  },
  {
   "cell_type": "code",
   "execution_count": 6,
   "id": "0709691c",
   "metadata": {},
   "outputs": [],
   "source": [
    "# Функция для посчета позиции в истории\n",
    "def get_item_position(events: pd.DataFrame, item_name):\n",
    "    \n",
    "    item_position = (\n",
    "        events\n",
    "        .groupby(item_name)\n",
    "        .agg(position=('track_seq', 'mean'))\n",
    "        .reset_index()\n",
    "        .sort_values(by='position', ascending=False, ignore_index=True)\n",
    "        .reset_index(drop=True)\n",
    "    )\n",
    "    item_position['position'] /= item_position['position'].max()\n",
    "    item_position['position'] = (\n",
    "        item_position['position'].astype('float32')\n",
    "    )\n",
    "    return item_position\n",
    "track_position = get_item_position(events_train, 'track_id')"
   ]
  },
  {
   "cell_type": "markdown",
   "id": "13cb170c",
   "metadata": {},
   "source": [
    "#### 3. user_history_max"
   ]
  },
  {
   "cell_type": "code",
   "execution_count": 7,
   "id": "bcc48fd3",
   "metadata": {},
   "outputs": [],
   "source": [
    "# Функция для посчета позиции в истории\n",
    "def get_history_max(events: pd.DataFrame):\n",
    "    \n",
    "    history_max = (\n",
    "        events\n",
    "        .groupby('user_id')\n",
    "        .agg(history_max=('track_seq', 'max'))\n",
    "        .reset_index()\n",
    "        .sort_values(by='history_max', ascending=False, ignore_index=True)\n",
    "        .reset_index(drop=True)\n",
    "    )\n",
    "    return history_max\n",
    "user_history_max = get_history_max(events_train)"
   ]
  },
  {
   "cell_type": "markdown",
   "id": "47bcf88d-b236-46f0-a6f3-38ddd64895fe",
   "metadata": {},
   "source": [
    "# Ранжирование рекомендаций"
   ]
  },
  {
   "cell_type": "markdown",
   "id": "e8cd8223-3418-4493-8c87-1f76286ebda0",
   "metadata": {},
   "source": [
    "Построим ранжирующую модель, чтобы сделать рекомендации более точными. Отранжируем рекомендации."
   ]
  },
  {
   "cell_type": "code",
   "execution_count": 7,
   "id": "79f1dd92-32a9-463d-827e-8bb9ee5bbb54",
   "metadata": {},
   "outputs": [
    {
     "data": {
      "text/plain": [
       "(8113111, 5403167)"
      ]
     },
     "execution_count": 7,
     "metadata": {},
     "output_type": "execute_result"
    }
   ],
   "source": [
    "# задаём точку разбиения\n",
    "split_date_for_labels = pd.to_datetime(\"2022-12-24\")\n",
    "\n",
    "split_date_for_labels_idx = events_test[\"started_at\"] < split_date_for_labels\n",
    "events_labels = events_test[split_date_for_labels_idx].copy()\n",
    "\n",
    "# Вторая часть данных для новой тестовой выборки\n",
    "events_test_2 = events_test[~split_date_for_labels_idx].copy()\n",
    "(len(events_labels), len(events_test_2))\n"
   ]
  },
  {
   "cell_type": "code",
   "execution_count": 5,
   "id": "6dbe4db4-1ac5-44da-a13c-8e7f9768ab73",
   "metadata": {},
   "outputs": [],
   "source": [
    "# загружаем рекомендации \n",
    "top_popular = pd.read_parquet(\"top_popular.parquet\")\n",
    "als_recommendations = pd.read_parquet(\"als_recommendations.parquet\")\n",
    "\n",
    "\n",
    "candidates = pd.merge(\n",
    "    als_recommendations[[\"user_id\", \"track_id\", \"score\"]].rename(columns={\"score\": \"als_score\"}),\n",
    "    top_popular[[\"user_id\", \"track_id\", \"score\"]].rename(columns={\"score\": \"top_score\"}),\n",
    "    on=[\"user_id\", \"track_id\"],\n",
    "    how=\"outer\")\n",
    "candidates.to_parquet(\"candidates.parquet\")"
   ]
  },
  {
   "cell_type": "code",
   "execution_count": 9,
   "id": "c727383e",
   "metadata": {},
   "outputs": [],
   "source": [
    "candidates = pd.read_parquet(\"candidates.parquet\")"
   ]
  },
  {
   "cell_type": "code",
   "execution_count": 10,
   "id": "57f2e39e",
   "metadata": {},
   "outputs": [
    {
     "name": "stdout",
     "output_type": "stream",
     "text": [
      "candidates_for_train:\n",
      "        user_id  track_id  als_score  top_score  target\n",
      "1384        138  83063895   0.201580   0.083502       1\n",
      "1620        162   2758009   0.252617   0.463050       1\n",
      "1624        162  10776533   0.192419        NaN       1\n",
      "1645        164  10776533   0.259009        NaN       1\n",
      "2675        267  84382287   0.024372        NaN       1\n",
      "...         ...       ...        ...        ...     ...\n",
      "559739  1374574       141   0.000000        NaN       0\n",
      "559740  1374582  47627256        NaN   0.397112       0\n",
      "559741  1374582  56920237        NaN   0.031640       0\n",
      "559742  1374582  69459326   0.216448        NaN       0\n",
      "559743  1374582  55561798        NaN   0.150666       0\n",
      "\n",
      "[802684 rows x 5 columns]\n"
     ]
    }
   ],
   "source": [
    "events_labels[\"target\"] = 1\n",
    "candidates = candidates.merge(events_labels[[\"user_id\", \"track_id\", \"target\"]], \n",
    "                              on=[\"user_id\", \"track_id\"], \n",
    "                              how=\"left\")\n",
    "candidates[\"target\"] = candidates[\"target\"].fillna(0).astype(\"int\")\n",
    "\n",
    "# в кандидатах оставляем только тех пользователей, у которых есть хотя бы один положительный таргет\n",
    "candidates_to_sample = candidates.groupby(\"user_id\").filter(lambda x: x[\"target\"].sum() > 0)\n",
    "\n",
    "# для каждого пользователя оставляем только 4 негативных примера\n",
    "negatives_per_user = 4\n",
    "candidates_for_train = pd.concat([\n",
    "    candidates_to_sample.query(\"target == 1\"),\n",
    "    candidates_to_sample.query(\"target == 0\") \\\n",
    "        .groupby(\"user_id\") \\\n",
    "        .apply(lambda x: x.sample(negatives_per_user, random_state=0)).reset_index(drop=True)\n",
    "])\n",
    "\n",
    "# Печать результата для проверки\n",
    "print(\"candidates_for_train:\")\n",
    "print(candidates_for_train)"
   ]
  },
  {
   "cell_type": "code",
   "execution_count": 18,
   "id": "cfd0c8c8",
   "metadata": {},
   "outputs": [
    {
     "data": {
      "text/html": [
       "<div>\n",
       "<style scoped>\n",
       "    .dataframe tbody tr th:only-of-type {\n",
       "        vertical-align: middle;\n",
       "    }\n",
       "\n",
       "    .dataframe tbody tr th {\n",
       "        vertical-align: top;\n",
       "    }\n",
       "\n",
       "    .dataframe thead th {\n",
       "        text-align: right;\n",
       "    }\n",
       "</style>\n",
       "<table border=\"1\" class=\"dataframe\">\n",
       "  <thead>\n",
       "    <tr style=\"text-align: right;\">\n",
       "      <th></th>\n",
       "      <th>user_id</th>\n",
       "      <th>track_id</th>\n",
       "      <th>als_score</th>\n",
       "      <th>top_score</th>\n",
       "      <th>target</th>\n",
       "      <th>popularity</th>\n",
       "      <th>position</th>\n",
       "      <th>history_max</th>\n",
       "    </tr>\n",
       "  </thead>\n",
       "  <tbody>\n",
       "    <tr>\n",
       "      <th>0</th>\n",
       "      <td>138</td>\n",
       "      <td>83063895</td>\n",
       "      <td>0.201580</td>\n",
       "      <td>0.083502</td>\n",
       "      <td>1</td>\n",
       "      <td>0.476878</td>\n",
       "      <td>0.033332</td>\n",
       "      <td>33.0</td>\n",
       "    </tr>\n",
       "    <tr>\n",
       "      <th>1</th>\n",
       "      <td>162</td>\n",
       "      <td>2758009</td>\n",
       "      <td>0.252617</td>\n",
       "      <td>0.463050</td>\n",
       "      <td>1</td>\n",
       "      <td>0.693518</td>\n",
       "      <td>0.014783</td>\n",
       "      <td>23.0</td>\n",
       "    </tr>\n",
       "    <tr>\n",
       "      <th>2</th>\n",
       "      <td>162</td>\n",
       "      <td>10776533</td>\n",
       "      <td>0.192419</td>\n",
       "      <td>NaN</td>\n",
       "      <td>1</td>\n",
       "      <td>0.361015</td>\n",
       "      <td>0.022383</td>\n",
       "      <td>23.0</td>\n",
       "    </tr>\n",
       "    <tr>\n",
       "      <th>3</th>\n",
       "      <td>164</td>\n",
       "      <td>10776533</td>\n",
       "      <td>0.259009</td>\n",
       "      <td>NaN</td>\n",
       "      <td>1</td>\n",
       "      <td>0.361015</td>\n",
       "      <td>0.022383</td>\n",
       "      <td>53.0</td>\n",
       "    </tr>\n",
       "    <tr>\n",
       "      <th>4</th>\n",
       "      <td>267</td>\n",
       "      <td>84382287</td>\n",
       "      <td>0.024372</td>\n",
       "      <td>NaN</td>\n",
       "      <td>1</td>\n",
       "      <td>0.301901</td>\n",
       "      <td>0.035934</td>\n",
       "      <td>11.0</td>\n",
       "    </tr>\n",
       "    <tr>\n",
       "      <th>...</th>\n",
       "      <td>...</td>\n",
       "      <td>...</td>\n",
       "      <td>...</td>\n",
       "      <td>...</td>\n",
       "      <td>...</td>\n",
       "      <td>...</td>\n",
       "      <td>...</td>\n",
       "      <td>...</td>\n",
       "    </tr>\n",
       "    <tr>\n",
       "      <th>802679</th>\n",
       "      <td>1374574</td>\n",
       "      <td>141</td>\n",
       "      <td>0.000000</td>\n",
       "      <td>NaN</td>\n",
       "      <td>0</td>\n",
       "      <td>0.003108</td>\n",
       "      <td>0.000120</td>\n",
       "      <td>NaN</td>\n",
       "    </tr>\n",
       "    <tr>\n",
       "      <th>802680</th>\n",
       "      <td>1374582</td>\n",
       "      <td>47627256</td>\n",
       "      <td>NaN</td>\n",
       "      <td>0.397112</td>\n",
       "      <td>0</td>\n",
       "      <td>0.655881</td>\n",
       "      <td>0.032341</td>\n",
       "      <td>207.0</td>\n",
       "    </tr>\n",
       "    <tr>\n",
       "      <th>802681</th>\n",
       "      <td>1374582</td>\n",
       "      <td>56920237</td>\n",
       "      <td>NaN</td>\n",
       "      <td>0.031640</td>\n",
       "      <td>0</td>\n",
       "      <td>0.447276</td>\n",
       "      <td>0.034000</td>\n",
       "      <td>207.0</td>\n",
       "    </tr>\n",
       "    <tr>\n",
       "      <th>802682</th>\n",
       "      <td>1374582</td>\n",
       "      <td>69459326</td>\n",
       "      <td>0.216448</td>\n",
       "      <td>NaN</td>\n",
       "      <td>0</td>\n",
       "      <td>0.266910</td>\n",
       "      <td>0.041461</td>\n",
       "      <td>207.0</td>\n",
       "    </tr>\n",
       "    <tr>\n",
       "      <th>802683</th>\n",
       "      <td>1374582</td>\n",
       "      <td>55561798</td>\n",
       "      <td>NaN</td>\n",
       "      <td>0.150666</td>\n",
       "      <td>0</td>\n",
       "      <td>0.515215</td>\n",
       "      <td>0.038153</td>\n",
       "      <td>207.0</td>\n",
       "    </tr>\n",
       "  </tbody>\n",
       "</table>\n",
       "<p>802684 rows × 8 columns</p>\n",
       "</div>"
      ],
      "text/plain": [
       "        user_id  track_id  als_score  top_score  target  popularity  position  \\\n",
       "0           138  83063895   0.201580   0.083502       1    0.476878  0.033332   \n",
       "1           162   2758009   0.252617   0.463050       1    0.693518  0.014783   \n",
       "2           162  10776533   0.192419        NaN       1    0.361015  0.022383   \n",
       "3           164  10776533   0.259009        NaN       1    0.361015  0.022383   \n",
       "4           267  84382287   0.024372        NaN       1    0.301901  0.035934   \n",
       "...         ...       ...        ...        ...     ...         ...       ...   \n",
       "802679  1374574       141   0.000000        NaN       0    0.003108  0.000120   \n",
       "802680  1374582  47627256        NaN   0.397112       0    0.655881  0.032341   \n",
       "802681  1374582  56920237        NaN   0.031640       0    0.447276  0.034000   \n",
       "802682  1374582  69459326   0.216448        NaN       0    0.266910  0.041461   \n",
       "802683  1374582  55561798        NaN   0.150666       0    0.515215  0.038153   \n",
       "\n",
       "        history_max  \n",
       "0              33.0  \n",
       "1              23.0  \n",
       "2              23.0  \n",
       "3              53.0  \n",
       "4              11.0  \n",
       "...             ...  \n",
       "802679          NaN  \n",
       "802680        207.0  \n",
       "802681        207.0  \n",
       "802682        207.0  \n",
       "802683        207.0  \n",
       "\n",
       "[802684 rows x 8 columns]"
      ]
     },
     "execution_count": 18,
     "metadata": {},
     "output_type": "execute_result"
    }
   ],
   "source": [
    "candidates_for_train_full = candidates_for_train.merge(track_popularity, on=\"track_id\", how=\"left\")\\\n",
    "                                           .merge(track_position, on=\"track_id\", how=\"left\")\\\n",
    "                                           .merge(user_history_max, on=\"user_id\", how=\"left\")\n",
    "candidates_for_train_full"
   ]
  },
  {
   "cell_type": "code",
   "execution_count": 19,
   "id": "46deab31",
   "metadata": {},
   "outputs": [],
   "source": [
    "candidates_for_train_full.to_parquet(\"candidates_for_train_full.parquet\")"
   ]
  },
  {
   "cell_type": "code",
   "execution_count": 3,
   "id": "6882a8b6",
   "metadata": {},
   "outputs": [
    {
     "name": "stdout",
     "output_type": "stream",
     "text": [
      "0:\tlearn: 0.6430705\ttotal: 139ms\tremaining: 2m 19s\n",
      "100:\tlearn: 0.3325540\ttotal: 8.8s\tremaining: 1m 18s\n",
      "200:\tlearn: 0.3204299\ttotal: 17.3s\tremaining: 1m 8s\n",
      "300:\tlearn: 0.3161719\ttotal: 25.8s\tremaining: 59.8s\n",
      "400:\tlearn: 0.3135802\ttotal: 35.1s\tremaining: 52.4s\n",
      "500:\tlearn: 0.3119194\ttotal: 45s\tremaining: 44.8s\n",
      "600:\tlearn: 0.3106074\ttotal: 53.7s\tremaining: 35.7s\n",
      "700:\tlearn: 0.3097060\ttotal: 1m\tremaining: 26s\n",
      "800:\tlearn: 0.3089479\ttotal: 1m 9s\tremaining: 17.2s\n",
      "900:\tlearn: 0.3083765\ttotal: 1m 15s\tremaining: 8.35s\n",
      "999:\tlearn: 0.3078508\ttotal: 1m 22s\tremaining: 0us\n"
     ]
    },
    {
     "data": {
      "text/plain": [
       "<catboost.core.CatBoostClassifier at 0x7fd90eb0a890>"
      ]
     },
     "execution_count": 3,
     "metadata": {},
     "output_type": "execute_result"
    }
   ],
   "source": [
    "from catboost import CatBoostClassifier, Pool\n",
    "\n",
    "candidates_for_train_full = pd.read_parquet(\"candidates_for_train_full.parquet\")\n",
    "\n",
    "# задаём имена колонок признаков и таргета\n",
    "features = ['als_score', 'top_score', 'popularity','position', 'history_max']\n",
    "target = 'target'\n",
    "\n",
    "# Create the Pool object\n",
    "train_data = Pool(\n",
    "    data=candidates_for_train_full[features], \n",
    "    label=candidates_for_train_full[target])\n",
    "\n",
    "# инициализируем модель CatBoostClassifier\n",
    "cb_model = CatBoostClassifier(\n",
    "    iterations=1000,\n",
    "    learning_rate=0.1,\n",
    "    depth=6,\n",
    "    loss_function='Logloss',\n",
    "    verbose=100,\n",
    "    random_seed=0\n",
    ")\n",
    "\n",
    "# тренируем модель\n",
    "cb_model.fit(train_data)"
   ]
  },
  {
   "cell_type": "code",
   "execution_count": 4,
   "id": "591ca4d3",
   "metadata": {},
   "outputs": [],
   "source": [
    "import pickle\n",
    "with open('models/cb_model.pkl', 'wb') as f:\n",
    "       pickle.dump(cb_model, f)"
   ]
  },
  {
   "cell_type": "code",
   "execution_count": 8,
   "id": "f7044238",
   "metadata": {},
   "outputs": [],
   "source": [
    "import pickle\n",
    "with open('models/cb_model.pkl', 'rb') as f:\n",
    "    cb_model = pickle.load(f)"
   ]
  },
  {
   "cell_type": "code",
   "execution_count": 9,
   "id": "47ed98f2",
   "metadata": {},
   "outputs": [
    {
     "data": {
      "text/html": [
       "<div>\n",
       "<style scoped>\n",
       "    .dataframe tbody tr th:only-of-type {\n",
       "        vertical-align: middle;\n",
       "    }\n",
       "\n",
       "    .dataframe tbody tr th {\n",
       "        vertical-align: top;\n",
       "    }\n",
       "\n",
       "    .dataframe thead th {\n",
       "        text-align: right;\n",
       "    }\n",
       "</style>\n",
       "<table border=\"1\" class=\"dataframe\">\n",
       "  <thead>\n",
       "    <tr style=\"text-align: right;\">\n",
       "      <th></th>\n",
       "      <th>user_id</th>\n",
       "      <th>track_id</th>\n",
       "      <th>als_score</th>\n",
       "      <th>top_score</th>\n",
       "      <th>popularity</th>\n",
       "      <th>position</th>\n",
       "      <th>history_max</th>\n",
       "    </tr>\n",
       "  </thead>\n",
       "  <tbody>\n",
       "    <tr>\n",
       "      <th>0</th>\n",
       "      <td>0</td>\n",
       "      <td>597196</td>\n",
       "      <td>0.014727</td>\n",
       "      <td>NaN</td>\n",
       "      <td>0.212468</td>\n",
       "      <td>0.008198</td>\n",
       "      <td>26.0</td>\n",
       "    </tr>\n",
       "    <tr>\n",
       "      <th>1</th>\n",
       "      <td>0</td>\n",
       "      <td>29213451</td>\n",
       "      <td>0.012848</td>\n",
       "      <td>NaN</td>\n",
       "      <td>0.371240</td>\n",
       "      <td>0.021472</td>\n",
       "      <td>26.0</td>\n",
       "    </tr>\n",
       "    <tr>\n",
       "      <th>2</th>\n",
       "      <td>0</td>\n",
       "      <td>27077792</td>\n",
       "      <td>0.012039</td>\n",
       "      <td>NaN</td>\n",
       "      <td>0.244061</td>\n",
       "      <td>0.015435</td>\n",
       "      <td>26.0</td>\n",
       "    </tr>\n",
       "    <tr>\n",
       "      <th>3</th>\n",
       "      <td>0</td>\n",
       "      <td>21101463</td>\n",
       "      <td>0.010868</td>\n",
       "      <td>NaN</td>\n",
       "      <td>0.142739</td>\n",
       "      <td>0.025628</td>\n",
       "      <td>26.0</td>\n",
       "    </tr>\n",
       "    <tr>\n",
       "      <th>4</th>\n",
       "      <td>0</td>\n",
       "      <td>18860</td>\n",
       "      <td>0.010672</td>\n",
       "      <td>NaN</td>\n",
       "      <td>0.386118</td>\n",
       "      <td>0.001132</td>\n",
       "      <td>26.0</td>\n",
       "    </tr>\n",
       "    <tr>\n",
       "      <th>...</th>\n",
       "      <td>...</td>\n",
       "      <td>...</td>\n",
       "      <td>...</td>\n",
       "      <td>...</td>\n",
       "      <td>...</td>\n",
       "      <td>...</td>\n",
       "      <td>...</td>\n",
       "    </tr>\n",
       "    <tr>\n",
       "      <th>88097662</th>\n",
       "      <td>1374582</td>\n",
       "      <td>68562711</td>\n",
       "      <td>NaN</td>\n",
       "      <td>0.005780</td>\n",
       "      <td>0.432516</td>\n",
       "      <td>0.033990</td>\n",
       "      <td>207.0</td>\n",
       "    </tr>\n",
       "    <tr>\n",
       "      <th>88097663</th>\n",
       "      <td>1374582</td>\n",
       "      <td>75944934</td>\n",
       "      <td>NaN</td>\n",
       "      <td>0.004952</td>\n",
       "      <td>0.432043</td>\n",
       "      <td>0.046934</td>\n",
       "      <td>207.0</td>\n",
       "    </tr>\n",
       "    <tr>\n",
       "      <th>88097664</th>\n",
       "      <td>1374582</td>\n",
       "      <td>75642961</td>\n",
       "      <td>NaN</td>\n",
       "      <td>0.003392</td>\n",
       "      <td>0.431153</td>\n",
       "      <td>0.037072</td>\n",
       "      <td>207.0</td>\n",
       "    </tr>\n",
       "    <tr>\n",
       "      <th>88097665</th>\n",
       "      <td>1374582</td>\n",
       "      <td>29175370</td>\n",
       "      <td>NaN</td>\n",
       "      <td>0.001513</td>\n",
       "      <td>0.430080</td>\n",
       "      <td>0.014722</td>\n",
       "      <td>207.0</td>\n",
       "    </tr>\n",
       "    <tr>\n",
       "      <th>88097666</th>\n",
       "      <td>1374582</td>\n",
       "      <td>68348389</td>\n",
       "      <td>NaN</td>\n",
       "      <td>0.000000</td>\n",
       "      <td>0.429217</td>\n",
       "      <td>0.036678</td>\n",
       "      <td>207.0</td>\n",
       "    </tr>\n",
       "  </tbody>\n",
       "</table>\n",
       "<p>88097667 rows × 7 columns</p>\n",
       "</div>"
      ],
      "text/plain": [
       "          user_id  track_id  als_score  top_score  popularity  position  \\\n",
       "0               0    597196   0.014727        NaN    0.212468  0.008198   \n",
       "1               0  29213451   0.012848        NaN    0.371240  0.021472   \n",
       "2               0  27077792   0.012039        NaN    0.244061  0.015435   \n",
       "3               0  21101463   0.010868        NaN    0.142739  0.025628   \n",
       "4               0     18860   0.010672        NaN    0.386118  0.001132   \n",
       "...           ...       ...        ...        ...         ...       ...   \n",
       "88097662  1374582  68562711        NaN   0.005780    0.432516  0.033990   \n",
       "88097663  1374582  75944934        NaN   0.004952    0.432043  0.046934   \n",
       "88097664  1374582  75642961        NaN   0.003392    0.431153  0.037072   \n",
       "88097665  1374582  29175370        NaN   0.001513    0.430080  0.014722   \n",
       "88097666  1374582  68348389        NaN   0.000000    0.429217  0.036678   \n",
       "\n",
       "          history_max  \n",
       "0                26.0  \n",
       "1                26.0  \n",
       "2                26.0  \n",
       "3                26.0  \n",
       "4                26.0  \n",
       "...               ...  \n",
       "88097662        207.0  \n",
       "88097663        207.0  \n",
       "88097664        207.0  \n",
       "88097665        207.0  \n",
       "88097666        207.0  \n",
       "\n",
       "[88097667 rows x 7 columns]"
      ]
     },
     "execution_count": 9,
     "metadata": {},
     "output_type": "execute_result"
    }
   ],
   "source": [
    "candidates = pd.read_parquet(\"candidates.parquet\")\n",
    "candidates_to_rank = candidates.merge(track_popularity, on=\"track_id\", how=\"left\")\\\n",
    "                                           .merge(track_position, on=\"track_id\", how=\"left\")\\\n",
    "                                           .merge(user_history_max, on=\"user_id\", how=\"left\")\n",
    "candidates_to_rank"
   ]
  },
  {
   "cell_type": "code",
   "execution_count": 10,
   "id": "92604dd2",
   "metadata": {},
   "outputs": [],
   "source": [
    "del track_popularity\n",
    "del track_position\n",
    "del user_history_max\n",
    "del candidates"
   ]
  },
  {
   "cell_type": "code",
   "execution_count": 11,
   "id": "51fd0829",
   "metadata": {},
   "outputs": [],
   "source": [
    "from catboost import  Pool\n",
    "features = ['als_score', 'top_score', 'popularity','position', 'history_max']\n",
    "inference_data = Pool(data=candidates_to_rank[features])\n",
    "predictions = cb_model.predict_proba(inference_data)\n",
    "candidates_to_rank[\"cb_score\"] = predictions[:, 1]"
   ]
  },
  {
   "cell_type": "code",
   "execution_count": 12,
   "id": "70cc8f62",
   "metadata": {},
   "outputs": [],
   "source": [
    "del inference_data\n",
    "del predictions"
   ]
  },
  {
   "cell_type": "code",
   "execution_count": 13,
   "id": "34380042",
   "metadata": {},
   "outputs": [],
   "source": [
    "\n",
    "# для каждого пользователя проставляем rank, начиная с 1 — это максимальный cb_score\n",
    "candidates_to_rank = candidates_to_rank.sort_values([\"user_id\", \"cb_score\"], ascending=[True, False])\n",
    "candidates_to_rank[\"rank\"] = candidates_to_rank.groupby('user_id').cumcount() + 1\n",
    "\n",
    "max_recommendations_per_user = 100\n",
    "final_recommendations = candidates_to_rank.query(\"rank <= @max_recommendations_per_user\")\n",
    "final_recommendations.to_parquet(\"recommendations.parquet\")"
   ]
  },
  {
   "cell_type": "code",
   "execution_count": 14,
   "id": "06515b63",
   "metadata": {},
   "outputs": [
    {
     "data": {
      "text/html": [
       "<div>\n",
       "<style scoped>\n",
       "    .dataframe tbody tr th:only-of-type {\n",
       "        vertical-align: middle;\n",
       "    }\n",
       "\n",
       "    .dataframe tbody tr th {\n",
       "        vertical-align: top;\n",
       "    }\n",
       "\n",
       "    .dataframe thead th {\n",
       "        text-align: right;\n",
       "    }\n",
       "</style>\n",
       "<table border=\"1\" class=\"dataframe\">\n",
       "  <thead>\n",
       "    <tr style=\"text-align: right;\">\n",
       "      <th></th>\n",
       "      <th>user_id</th>\n",
       "      <th>track_id</th>\n",
       "      <th>als_score</th>\n",
       "      <th>top_score</th>\n",
       "      <th>popularity</th>\n",
       "      <th>position</th>\n",
       "      <th>history_max</th>\n",
       "      <th>cb_score</th>\n",
       "      <th>rank</th>\n",
       "    </tr>\n",
       "  </thead>\n",
       "  <tbody>\n",
       "    <tr>\n",
       "      <th>6</th>\n",
       "      <td>0</td>\n",
       "      <td>19722850</td>\n",
       "      <td>0.010453</td>\n",
       "      <td>NaN</td>\n",
       "      <td>0.234826</td>\n",
       "      <td>0.019989</td>\n",
       "      <td>26.0</td>\n",
       "      <td>0.475304</td>\n",
       "      <td>1</td>\n",
       "    </tr>\n",
       "    <tr>\n",
       "      <th>1</th>\n",
       "      <td>0</td>\n",
       "      <td>29213451</td>\n",
       "      <td>0.012848</td>\n",
       "      <td>NaN</td>\n",
       "      <td>0.371240</td>\n",
       "      <td>0.021472</td>\n",
       "      <td>26.0</td>\n",
       "      <td>0.425806</td>\n",
       "      <td>2</td>\n",
       "    </tr>\n",
       "    <tr>\n",
       "      <th>2</th>\n",
       "      <td>0</td>\n",
       "      <td>27077792</td>\n",
       "      <td>0.012039</td>\n",
       "      <td>NaN</td>\n",
       "      <td>0.244061</td>\n",
       "      <td>0.015435</td>\n",
       "      <td>26.0</td>\n",
       "      <td>0.424492</td>\n",
       "      <td>3</td>\n",
       "    </tr>\n",
       "    <tr>\n",
       "      <th>7</th>\n",
       "      <td>0</td>\n",
       "      <td>25903468</td>\n",
       "      <td>0.010445</td>\n",
       "      <td>NaN</td>\n",
       "      <td>0.221011</td>\n",
       "      <td>0.022327</td>\n",
       "      <td>26.0</td>\n",
       "      <td>0.401995</td>\n",
       "      <td>4</td>\n",
       "    </tr>\n",
       "    <tr>\n",
       "      <th>3</th>\n",
       "      <td>0</td>\n",
       "      <td>21101463</td>\n",
       "      <td>0.010868</td>\n",
       "      <td>NaN</td>\n",
       "      <td>0.142739</td>\n",
       "      <td>0.025628</td>\n",
       "      <td>26.0</td>\n",
       "      <td>0.380848</td>\n",
       "      <td>5</td>\n",
       "    </tr>\n",
       "    <tr>\n",
       "      <th>...</th>\n",
       "      <td>...</td>\n",
       "      <td>...</td>\n",
       "      <td>...</td>\n",
       "      <td>...</td>\n",
       "      <td>...</td>\n",
       "      <td>...</td>\n",
       "      <td>...</td>\n",
       "      <td>...</td>\n",
       "      <td>...</td>\n",
       "    </tr>\n",
       "    <tr>\n",
       "      <th>88097582</th>\n",
       "      <td>1374582</td>\n",
       "      <td>37384</td>\n",
       "      <td>NaN</td>\n",
       "      <td>0.514116</td>\n",
       "      <td>0.722666</td>\n",
       "      <td>0.001562</td>\n",
       "      <td>207.0</td>\n",
       "      <td>0.000340</td>\n",
       "      <td>96</td>\n",
       "    </tr>\n",
       "    <tr>\n",
       "      <th>88097623</th>\n",
       "      <td>1374582</td>\n",
       "      <td>595258</td>\n",
       "      <td>NaN</td>\n",
       "      <td>0.142243</td>\n",
       "      <td>0.510407</td>\n",
       "      <td>0.007705</td>\n",
       "      <td>207.0</td>\n",
       "      <td>0.000321</td>\n",
       "      <td>97</td>\n",
       "    </tr>\n",
       "    <tr>\n",
       "      <th>88097622</th>\n",
       "      <td>1374582</td>\n",
       "      <td>560473</td>\n",
       "      <td>NaN</td>\n",
       "      <td>0.148278</td>\n",
       "      <td>0.513851</td>\n",
       "      <td>0.007686</td>\n",
       "      <td>207.0</td>\n",
       "      <td>0.000165</td>\n",
       "      <td>98</td>\n",
       "    </tr>\n",
       "    <tr>\n",
       "      <th>88097613</th>\n",
       "      <td>1374582</td>\n",
       "      <td>178495</td>\n",
       "      <td>NaN</td>\n",
       "      <td>0.181765</td>\n",
       "      <td>0.532965</td>\n",
       "      <td>0.005347</td>\n",
       "      <td>207.0</td>\n",
       "      <td>0.000115</td>\n",
       "      <td>99</td>\n",
       "    </tr>\n",
       "    <tr>\n",
       "      <th>88097576</th>\n",
       "      <td>1374582</td>\n",
       "      <td>178529</td>\n",
       "      <td>NaN</td>\n",
       "      <td>0.854142</td>\n",
       "      <td>0.916747</td>\n",
       "      <td>0.004146</td>\n",
       "      <td>207.0</td>\n",
       "      <td>0.000111</td>\n",
       "      <td>100</td>\n",
       "    </tr>\n",
       "  </tbody>\n",
       "</table>\n",
       "<p>83811430 rows × 9 columns</p>\n",
       "</div>"
      ],
      "text/plain": [
       "          user_id  track_id  als_score  top_score  popularity  position  \\\n",
       "6               0  19722850   0.010453        NaN    0.234826  0.019989   \n",
       "1               0  29213451   0.012848        NaN    0.371240  0.021472   \n",
       "2               0  27077792   0.012039        NaN    0.244061  0.015435   \n",
       "7               0  25903468   0.010445        NaN    0.221011  0.022327   \n",
       "3               0  21101463   0.010868        NaN    0.142739  0.025628   \n",
       "...           ...       ...        ...        ...         ...       ...   \n",
       "88097582  1374582     37384        NaN   0.514116    0.722666  0.001562   \n",
       "88097623  1374582    595258        NaN   0.142243    0.510407  0.007705   \n",
       "88097622  1374582    560473        NaN   0.148278    0.513851  0.007686   \n",
       "88097613  1374582    178495        NaN   0.181765    0.532965  0.005347   \n",
       "88097576  1374582    178529        NaN   0.854142    0.916747  0.004146   \n",
       "\n",
       "          history_max  cb_score  rank  \n",
       "6                26.0  0.475304     1  \n",
       "1                26.0  0.425806     2  \n",
       "2                26.0  0.424492     3  \n",
       "7                26.0  0.401995     4  \n",
       "3                26.0  0.380848     5  \n",
       "...               ...       ...   ...  \n",
       "88097582        207.0  0.000340    96  \n",
       "88097623        207.0  0.000321    97  \n",
       "88097622        207.0  0.000165    98  \n",
       "88097613        207.0  0.000115    99  \n",
       "88097576        207.0  0.000111   100  \n",
       "\n",
       "[83811430 rows x 9 columns]"
      ]
     },
     "execution_count": 14,
     "metadata": {},
     "output_type": "execute_result"
    }
   ],
   "source": [
    "final_recommendations"
   ]
  },
  {
   "cell_type": "code",
   "execution_count": 1,
   "id": "91dc617f",
   "metadata": {},
   "outputs": [],
   "source": [
    "import pandas as pd\n",
    "renamed_final_recommendations = pd.read_parquet(\"recommendations.parquet\").rename(columns={\"cb_score\": \"score\"})\n",
    "items = pd.read_parquet(\"items.parquet\")"
   ]
  },
  {
   "cell_type": "code",
   "execution_count": 8,
   "id": "cd806cc8",
   "metadata": {},
   "outputs": [],
   "source": [
    "items = pd.read_parquet(\"items.parquet\")"
   ]
  },
  {
   "cell_type": "code",
   "execution_count": 9,
   "id": "1fd0071d",
   "metadata": {},
   "outputs": [
    {
     "data": {
      "text/html": [
       "<div>\n",
       "<style scoped>\n",
       "    .dataframe tbody tr th:only-of-type {\n",
       "        vertical-align: middle;\n",
       "    }\n",
       "\n",
       "    .dataframe tbody tr th {\n",
       "        vertical-align: top;\n",
       "    }\n",
       "\n",
       "    .dataframe thead th {\n",
       "        text-align: right;\n",
       "    }\n",
       "</style>\n",
       "<table border=\"1\" class=\"dataframe\">\n",
       "  <thead>\n",
       "    <tr style=\"text-align: right;\">\n",
       "      <th></th>\n",
       "      <th>Metric</th>\n",
       "      <th>Value</th>\n",
       "    </tr>\n",
       "  </thead>\n",
       "  <tbody>\n",
       "    <tr>\n",
       "      <th>0</th>\n",
       "      <td>Precision</td>\n",
       "      <td>1.00</td>\n",
       "    </tr>\n",
       "    <tr>\n",
       "      <th>1</th>\n",
       "      <td>Recall</td>\n",
       "      <td>0.33</td>\n",
       "    </tr>\n",
       "    <tr>\n",
       "      <th>2</th>\n",
       "      <td>Coverage</td>\n",
       "      <td>0.05</td>\n",
       "    </tr>\n",
       "    <tr>\n",
       "      <th>3</th>\n",
       "      <td>Novelty</td>\n",
       "      <td>84.47</td>\n",
       "    </tr>\n",
       "  </tbody>\n",
       "</table>\n",
       "</div>"
      ],
      "text/plain": [
       "      Metric  Value\n",
       "0  Precision   1.00\n",
       "1     Recall   0.33\n",
       "2   Coverage   0.05\n",
       "3    Novelty  84.47"
      ]
     },
     "execution_count": 9,
     "metadata": {},
     "output_type": "execute_result"
    }
   ],
   "source": [
    "\n",
    "precision, recall = calculate_precision_recall(events_test, renamed_final_recommendations)\n",
    "coverage = calculate_coverage(renamed_final_recommendations, items)\n",
    "novelty = calculate_novelty(renamed_final_recommendations, events_train)\n",
    "final_recommendations_metrics = pd.DataFrame({\n",
    "        'Metric': ['Precision', 'Recall', 'Coverage', 'Novelty'],\n",
    "        'Value': [precision, recall, coverage, novelty]\n",
    "    })\n",
    "final_recommendations_metrics"
   ]
  },
  {
   "cell_type": "code",
   "execution_count": 15,
   "id": "e71adc80",
   "metadata": {},
   "outputs": [],
   "source": [
    "client.upload_file('recommendations.parquet', bucket, 'recsys/recommendations/recommendations.parquet')"
   ]
  },
  {
   "cell_type": "markdown",
   "id": "b3c84071-45b5-4a15-a683-e0ab034a3128",
   "metadata": {},
   "source": [
    "# Оценка качества"
   ]
  },
  {
   "cell_type": "markdown",
   "id": "1b107fe4-554e-42b1-87d9-c435a52bb77a",
   "metadata": {},
   "source": [
    "Проверим оценку качества трёх типов рекомендаций: \n",
    "\n",
    "- топ популярных,\n",
    "- персональных, полученных при помощи ALS,\n",
    "- итоговых\n",
    "  \n",
    "по четырем метрикам: recall, precision, coverage, novelty."
   ]
  },
  {
   "cell_type": "code",
   "execution_count": 12,
   "id": "94d6f388-aecb-443e-8647-14014e932d4d",
   "metadata": {},
   "outputs": [
    {
     "data": {
      "text/html": [
       "<div>\n",
       "<style scoped>\n",
       "    .dataframe tbody tr th:only-of-type {\n",
       "        vertical-align: middle;\n",
       "    }\n",
       "\n",
       "    .dataframe tbody tr th {\n",
       "        vertical-align: top;\n",
       "    }\n",
       "\n",
       "    .dataframe thead th {\n",
       "        text-align: right;\n",
       "    }\n",
       "</style>\n",
       "<table border=\"1\" class=\"dataframe\">\n",
       "  <thead>\n",
       "    <tr style=\"text-align: right;\">\n",
       "      <th></th>\n",
       "      <th>Name</th>\n",
       "      <th>Precision</th>\n",
       "      <th>Recall</th>\n",
       "      <th>Coverage</th>\n",
       "      <th>Novelty</th>\n",
       "    </tr>\n",
       "  </thead>\n",
       "  <tbody>\n",
       "    <tr>\n",
       "      <th>0</th>\n",
       "      <td>rank</td>\n",
       "      <td>1.00</td>\n",
       "      <td>0.33</td>\n",
       "      <td>0.05</td>\n",
       "      <td>97.81</td>\n",
       "    </tr>\n",
       "    <tr>\n",
       "      <th>1</th>\n",
       "      <td>als</td>\n",
       "      <td>0.69</td>\n",
       "      <td>0.57</td>\n",
       "      <td>0.05</td>\n",
       "      <td>62.95</td>\n",
       "    </tr>\n",
       "    <tr>\n",
       "      <th>2</th>\n",
       "      <td>top_100</td>\n",
       "      <td>0.36</td>\n",
       "      <td>0.13</td>\n",
       "      <td>0.00</td>\n",
       "      <td>92.62</td>\n",
       "    </tr>\n",
       "  </tbody>\n",
       "</table>\n",
       "</div>"
      ],
      "text/plain": [
       "      Name Precision Recall Coverage Novelty\n",
       "0     rank      1.00   0.33     0.05   97.81\n",
       "1      als      0.69   0.57     0.05   62.95\n",
       "2  top_100      0.36   0.13     0.00   92.62"
      ]
     },
     "execution_count": 12,
     "metadata": {},
     "output_type": "execute_result"
    }
   ],
   "source": [
    "# Метрики взяла из конца каждого блока\n",
    "data = {\n",
    "    \"Name\": [\"rank\",\"als\", \"top_100\" ],\n",
    "    \"Precision\": [\"1.00\", \"0.69\", \"0.36\"],\n",
    "    \"Recall\": [\"0.33\", \"0.57\", \"0.13\"],\n",
    "    \"Coverage\": [\"0.05\", \"0.05\",\"0.00\" ],\n",
    "    \"Novelty\": [\"97.81\", \"62.95\",\"92.62\"]\n",
    "}\n",
    "df = pd.DataFrame(data)\n",
    "\n",
    "df"
   ]
  },
  {
   "cell_type": "markdown",
   "id": "f1c8d38c-32b0-46a4-96f0-cd01dac708bc",
   "metadata": {},
   "source": [
    "# === Выводы, метрики ==="
   ]
  },
  {
   "cell_type": "markdown",
   "id": "f7d7d5d8-7d1e-4fdf-a6cd-83e5ce92c684",
   "metadata": {},
   "source": [
    "Основные выводы при работе над расчётом рекомендаций, рассчитанные метрики."
   ]
  },
  {
   "cell_type": "markdown",
   "id": "6403097d-db36-46d9-8952-613c9bd51b05",
   "metadata": {},
   "source": [
    "Вариант с  топ-популярных треков в качестве рекомендаций требует минимальных ресурсов, но рещультат - маленькие метрики\n",
    "\n",
    "Персональные рекомендации получились в разы лучше. Но ресурсов и времени требуют сильно больше \n",
    "\n",
    "в двухстайдийном подходие сильно улучшить метрики не вышло, гораздо лучше чем с  топ-популярных треков , но хуже чем с персональными рекомендациями, возможно были подобраны не самые лучше доп признаки\n"
   ]
  },
  {
   "cell_type": "markdown",
   "id": "986cfdd5-6f2e-4de6-8666-85804c87d04b",
   "metadata": {},
   "source": [
    "Чем лучше получаются метрики, тем больше вычислительных ресурсов требуется"
   ]
  },
  {
   "cell_type": "code",
   "execution_count": 16,
   "id": "bde3ecc8",
   "metadata": {},
   "outputs": [
    {
     "name": "stdout",
     "output_type": "stream",
     "text": [
      "{'Key': 'recsys/data/events.parquet', 'LastModified': datetime.datetime(2024, 9, 1, 11, 20, 58, 400000, tzinfo=tzlocal()), 'ETag': '\"e67d5861d9f8c7558489ba81955d0e09-123\"', 'Size': 1028168763, 'StorageClass': 'STANDARD', 'Owner': {'DisplayName': 'ajeq26s98m0ssapaa27m', 'ID': 'ajeq26s98m0ssapaa27m'}}\n",
      "{'Key': 'recsys/data/items.parquet', 'LastModified': datetime.datetime(2024, 9, 1, 11, 20, 54, 284000, tzinfo=tzlocal()), 'ETag': '\"8640ce97fb4356edaf634523e6ffca63-8\"', 'Size': 63731499, 'StorageClass': 'STANDARD', 'Owner': {'DisplayName': 'ajeq26s98m0ssapaa27m', 'ID': 'ajeq26s98m0ssapaa27m'}}\n",
      "{'Key': 'recsys/recommendations/als_I2I_recommendations.parquet', 'LastModified': datetime.datetime(2024, 9, 1, 13, 7, 38, 990000, tzinfo=tzlocal()), 'ETag': '\"f4b50c08de964f4ce0e1ac16d9865845-12\"', 'Size': 97501700, 'StorageClass': 'STANDARD', 'Owner': {'DisplayName': 'ajeq26s98m0ssapaa27m', 'ID': 'ajeq26s98m0ssapaa27m'}}\n",
      "{'Key': 'recsys/recommendations/als_recommendations.parquet', 'LastModified': datetime.datetime(2024, 9, 1, 11, 21, 14, 825000, tzinfo=tzlocal()), 'ETag': '\"d3d8a3f58bb213635d86c0236c3ca8bc-14\"', 'Size': 116508532, 'StorageClass': 'STANDARD', 'Owner': {'DisplayName': 'ajeq26s98m0ssapaa27m', 'ID': 'ajeq26s98m0ssapaa27m'}}\n",
      "{'Key': 'recsys/recommendations/recommendations.parquet', 'LastModified': datetime.datetime(2024, 9, 1, 14, 32, 37, 213000, tzinfo=tzlocal()), 'ETag': '\"c33d6e060edd5e23bd61a30767b870fb-154\"', 'Size': 1289261702, 'StorageClass': 'STANDARD', 'Owner': {'DisplayName': 'ajeq26s98m0ssapaa27m', 'ID': 'ajeq26s98m0ssapaa27m'}}\n",
      "{'Key': 'recsys/recommendations/top_popular.parquet', 'LastModified': datetime.datetime(2024, 9, 1, 13, 14, 20, 378000, tzinfo=tzlocal()), 'ETag': '\"188880e37c9b38f7f0615bafa006e9ae-2\"', 'Size': 13540569, 'StorageClass': 'STANDARD', 'Owner': {'DisplayName': 'ajeq26s98m0ssapaa27m', 'ID': 'ajeq26s98m0ssapaa27m'}}\n"
     ]
    }
   ],
   "source": [
    "objects = client.list_objects_v2(Bucket=bucket)['Contents']\n",
    "for obj in objects:\n",
    "    if 'recsys' in obj['Key']:\n",
    "        print(obj)"
   ]
  },
  {
   "cell_type": "markdown",
   "id": "3cef823b",
   "metadata": {},
   "source": []
  }
 ],
 "metadata": {
  "kernelspec": {
   "display_name": "Python 3 (ipykernel)",
   "language": "python",
   "name": "python3"
  },
  "language_info": {
   "codemirror_mode": {
    "name": "ipython",
    "version": 3
   },
   "file_extension": ".py",
   "mimetype": "text/x-python",
   "name": "python",
   "nbconvert_exporter": "python",
   "pygments_lexer": "ipython3",
   "version": "3.10.12"
  }
 },
 "nbformat": 4,
 "nbformat_minor": 5
}
